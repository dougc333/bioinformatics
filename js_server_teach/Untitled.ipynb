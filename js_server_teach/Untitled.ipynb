{
 "cells": [
  {
   "cell_type": "code",
   "execution_count": null,
   "metadata": {},
   "outputs": [],
   "source": [
    "<h6>Nodejs programming</h6>\n",
    "Why nodejs? Event driven scalable server least amount of work to get data from servers doing work into visualizations. \n",
    "Other technologies work also but nodejs is the fastest hence cheapest solution at scale for real time data processing and\n",
    "display\n"
   ]
  },
  {
   "cell_type": "markdown",
   "metadata": {},
   "source": [
    "<h6></h6>\n",
    "JS is untyped unlike C. Function level scope vs. block level scope like C/Java. \n",
    "<img src=\"jsdefn1.png\">\n",
    "<img src=\"jsdefn2.png\">\n",
    "Example pass functions as variables:\n",
    "Example prototypical inheritance:\n",
    "2 ways to declare a function\n",
    "1) using the function keyword\n",
    "2) function expression where a variable is assigned to a function\n",
    "var foo = function this_is_a_test_function(param1){//do something w param1}\n",
    "<img src=\"func1.png\">\n",
    "<img src=\"func2.png\">\n",
    "In a function expression you can only use the name of the function inside the funtion. factorial only exists inside\n",
    "the function scope. It does not exist outside the function scope of factorial. \n",
    "<img src=\"func3.png\">\n",
    "parameters same for function declarations and function expressions. \n",
    "<img src=\"func4.png\">\n",
    "<img src=\"func5.png\">\n",
    "<img src=\"func6.png\">\n",
    "<img src=\"func7.png\">\n",
    "<img src=\"func8.png\">\n",
    "hoisting which lits var decls to the top of the program. \n",
    "\n",
    "\n",
    "\n"
   ]
  },
  {
   "cell_type": "code",
   "execution_count": null,
   "metadata": {},
   "outputs": [],
   "source": []
  }
 ],
 "metadata": {
  "kernelspec": {
   "display_name": "Python 3",
   "language": "python",
   "name": "python3"
  },
  "language_info": {
   "codemirror_mode": {
    "name": "ipython",
    "version": 3
   },
   "file_extension": ".py",
   "mimetype": "text/x-python",
   "name": "python",
   "nbconvert_exporter": "python",
   "pygments_lexer": "ipython3",
   "version": "3.6.1"
  }
 },
 "nbformat": 4,
 "nbformat_minor": 2
}
