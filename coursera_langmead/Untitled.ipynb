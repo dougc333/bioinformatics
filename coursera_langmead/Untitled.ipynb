{
 "cells": [
  {
   "cell_type": "code",
   "execution_count": null,
   "metadata": {},
   "outputs": [],
   "source": [
    "#implement shortest common substring brute force. problem is the permutsation"
   ]
  },
  {
   "cell_type": "code",
   "execution_count": 20,
   "metadata": {},
   "outputs": [],
   "source": [
    "#Ben Langmead https://www.youtube.com/watch?v=QPUB7TXdxy0\n",
    "\n",
    "def overlap(a,b,min_length=3):\n",
    "    '''\n",
    "    compute overlap between a and b\n",
    "    '''\n",
    "    start = 0\n",
    "    while True:\n",
    "        start = a.find(b[:min_length],start)\n",
    "        if start == -1:\n",
    "            return 0\n",
    "        if b.startswith(a[start:]):\n",
    "            return len(a)-start\n",
    "        start+=1\n"
   ]
  },
  {
   "cell_type": "code",
   "execution_count": 21,
   "metadata": {},
   "outputs": [
    {
     "data": {
      "text/plain": [
       "[(1, 2), (1, 3), (2, 1), (2, 3), (3, 1), (3, 2)]"
      ]
     },
     "execution_count": 21,
     "metadata": {},
     "output_type": "execute_result"
    }
   ],
   "source": [
    "from itertools import permutations\n",
    "\n",
    "list(permutations([1,2,3],2))\n",
    "\n",
    "\n"
   ]
  },
  {
   "cell_type": "code",
   "execution_count": 22,
   "metadata": {},
   "outputs": [],
   "source": [
    "def naive_overlap(reads, k):\n",
    "    '''\n",
    "    minoverlap=k\n",
    "    '''\n",
    "    olaps={}\n",
    "    for a,b in permutations(reads,2):\n",
    "        olen=overlap(a,b,min_length=k)\n",
    "        if olen > 0:\n",
    "            olaps[(a,b)] = olen\n",
    "    return olaps"
   ]
  },
  {
   "cell_type": "code",
   "execution_count": 24,
   "metadata": {},
   "outputs": [
    {
     "name": "stdout",
     "output_type": "stream",
     "text": [
      "{('ACGGTGATC', 'GATCAAGT'): 4}\n"
     ]
    }
   ],
   "source": [
    "reads=['ACGGTGATC','GATCAAGT','TTCACGGA']\n",
    "print (naive_overlap(reads,3))"
   ]
  },
  {
   "cell_type": "code",
   "execution_count": null,
   "metadata": {},
   "outputs": [],
   "source": [
    "#greedy approach: https://www.youtube.com/watch?v=uS6ca7yeVb0 no permustaions\n",
    "#we are going to find 2 reads with the max overlap combine then keep on combining\n",
    "one problem with below is there maybe multiple pairs which overlap. We just return teh first one found.\n"
   ]
  },
  {
   "cell_type": "code",
   "execution_count": null,
   "metadata": {},
   "outputs": [],
   "source": [
    "def pick_maximal_overlap(reads,k):\n",
    "    reada,readb=None,None\n",
    "    best_olen=0\n",
    "    for a,b in itertools.permutations(reads,2):\n",
    "        olen = overlap(a,b,min_length=k)\n",
    "        if olen > best_olen:\n",
    "            readsa,readsb = a,b\n",
    "            best_olen = olen\n",
    "    return reada,readb,best_olen"
   ]
  },
  {
   "cell_type": "code",
   "execution_count": null,
   "metadata": {},
   "outputs": [],
   "source": [
    "def greedy_scs(reads,k):\n",
    "    read_a,read_b,olen = pick_maximal_overlap(reads,k)\n",
    "    while olen>0:\n",
    "        reads.remove(read_a)\n",
    "        reads.remove(read_b)\n",
    "        reads.append(read_a+read_b[olen:])\n",
    "        read_a,read_b,"
   ]
  }
 ],
 "metadata": {
  "kernelspec": {
   "display_name": "Python 3",
   "language": "python",
   "name": "python3"
  },
  "language_info": {
   "codemirror_mode": {
    "name": "ipython",
    "version": 3
   },
   "file_extension": ".py",
   "mimetype": "text/x-python",
   "name": "python",
   "nbconvert_exporter": "python",
   "pygments_lexer": "ipython3",
   "version": "3.6.1"
  }
 },
 "nbformat": 4,
 "nbformat_minor": 2
}
