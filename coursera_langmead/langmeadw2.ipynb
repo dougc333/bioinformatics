{
 "cells": [
  {
   "cell_type": "code",
   "execution_count": null,
   "metadata": {},
   "outputs": [],
   "source": [
    "<h6>Week2 continue w/read alignment problem<h6>\n",
    "To improve in the naive matching algo we notice in a mismatch we can skip the number of spaces in the prefix\n",
    "of the matching string. In the example below, r does not match u and there are 2 chars in front of r so we skip\n",
    "2 alignmnents bc we know those wont match. \n",
    "<img src=\"t1.png\">\n",
    "There are 2 steps to Boyer Moore, first we are going to compare from the end of the string forward. When\n",
    "we see a mismatch we skip. We are going to use these mismatches to reduce the amount of compares we have to \n",
    "do. \n",
    "<img src=\"t2.png\">\n",
    "<p></p>\n",
    "When there is a mismatch we do either of 2 things, 1) wait till the mismatch becomse a match or 2) the pattern P\n",
    "moves past the mismatch character. \n",
    "How much to skip? If we use the rule we just learned; step 1 shows we move 3 over. In the example below we start\n",
    "from teh left and see the mismatch between T/C. How far do we skip over? We can see we need a C to match which is \n",
    "3 spaces over to the left. A shift of 3 is equivalent to skipping 2 alignments. \n",
    "<img src=\"t3.png\">\n",
    "<img src=\"t4.png\">\n",
    "<img src=\"t5.png\">\n",
    "<img src=\"t6.png\">\n",
    "<img src=\"t7.png\">\n",
    "<img src=\"t8.png\">\n",
    "<img src=\"t9.png\">\n",
    "<img src=\"t10.png\">\n",
    "<img src=\"t11.png\">\n",
    "<img src=\"t12.png\">\n",
    "<img src=\"t13.png\">\n",
    "<img src=\"t14.png\">\n"
   ]
  },
  {
   "cell_type": "code",
   "execution_count": null,
   "metadata": {},
   "outputs": [],
   "source": []
  }
 ],
 "metadata": {
  "kernelspec": {
   "display_name": "Python 3",
   "language": "python",
   "name": "python3"
  },
  "language_info": {
   "codemirror_mode": {
    "name": "ipython",
    "version": 3
   },
   "file_extension": ".py",
   "mimetype": "text/x-python",
   "name": "python",
   "nbconvert_exporter": "python",
   "pygments_lexer": "ipython3",
   "version": "3.6.1"
  }
 },
 "nbformat": 4,
 "nbformat_minor": 2
}
