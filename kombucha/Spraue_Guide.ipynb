{
 "cells": [
  {
   "cell_type": "markdown",
   "metadata": {},
   "source": [
    "<h6>Richard Sprague Biome </h6>\n",
    "https://play.google.com/store/books/details/O_Reilly_Media_Inc_BioCoder_8?id=FqwwCgAAQBAJ\n",
    "\n",
    "<p>\n",
    "JSON file: \n",
    "<p></p> \n",
    "count: number of organisms in sample. \n",
    "</p>\n",
    "<p></p>\n",
    "count_norm: normalized, PPM, parts per million\n",
    "<p></p>\n",
    "tax_name: taxonomy\n",
    "<p></p>\n",
    "tax_rank: level\n",
    "<p></p>\n",
    "RS uses excel to plot JSON info in graph. JSON data same as CSV data. \n",
    "<p></p>\n",
    "upload data You can use the key:KHir2yyK or you can use the webupload for small files. \n",
    "<img src=\"mgrast1.png\">\n",
    "<h6>make sure you login w/firefox and not google chrome. Green checkbox doesnt show up on chrome!</h6>\n",
    "<img src=\"mgrast2.png\">\n",
    "<h6>The green checkbox shows up on the right using firefox!</h6>\n",
    "3 steps, 1) click on the x and remove RefSeq, Subsystems. 2) Add under available databases RNA-->Greengenes\n",
    "3) click on private and select the ubiome datasets. \n",
    "<img src=\"mgrast3.png\">\n",
    "<img src=\"mgrast4.png\">\n",
    "<img src=\"mgrast5.png\">\n",
    "<img src=\"mgrast6.png\">\n",
    "\n",
    "<img src=\"mgrastkey.png\">"
   ]
  },
  {
   "cell_type": "code",
   "execution_count": null,
   "metadata": {},
   "outputs": [],
   "source": [
    "<h6>Run FastQC on sample of biome data</h6>\n",
    "Install XQuartz on Mac\n",
    "Run ssh -Y dc@192.168.0.11\n",
    "setenv DISPLAY=0:0 not necessary using ssh w/XQuartz \n",
    "    \n",
    "<img src=\"patrik_fastqc1.png\">\n",
    "<img src=\"patrik_fastqc2.png\">\n",
    "<img src=\"patrik_fastqc3.png\">\n",
    "<img src=\"patrik_fastqc4.png\">\n",
    "<img src=\"patrik_fastqc5.png\">\n",
    "<img src=\"patrik_fastqc6.png\">\n",
    "\n",
    "\n"
   ]
  }
 ],
 "metadata": {
  "kernelspec": {
   "display_name": "Python 3",
   "language": "python",
   "name": "python3"
  },
  "language_info": {
   "codemirror_mode": {
    "name": "ipython",
    "version": 3
   },
   "file_extension": ".py",
   "mimetype": "text/x-python",
   "name": "python",
   "nbconvert_exporter": "python",
   "pygments_lexer": "ipython3",
   "version": "3.6.1"
  }
 },
 "nbformat": 4,
 "nbformat_minor": 2
}
