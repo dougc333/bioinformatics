{
 "cells": [
  {
   "cell_type": "markdown",
   "metadata": {},
   "source": [
    "<h6>kombucha metagenomic analysis</h6>\n",
    "https://play.google.com/store/books/details/O_Reilly_Media_Inc_BioCoder_8?id=FqwwCgAAQBAJ"
   ]
  },
  {
   "cell_type": "markdown",
   "metadata": {},
   "source": [
    "<h6>MG-RAST follows 2 workflows, we are doing the lower and simpler RNA workflow </h6>\n",
    "<img src=\"workflow.png\">\n",
    "The following is from file pipeline.xml\n",
    "<p></p>\n",
    "<h6>Step 1 RNA stage 50</h6>\n",
    "Input:This is the original submitted sequence file.\n",
    "This is a sequence file in either fasta or fastq format. \n",
    "It may have been edited to change all end-of-line characters into UNIX format.\n",
    "Output: 100.preprocess.passed. Leave 100.preprocess.removed for QC. \n",
    "<h6>Step 2 RNA stage 100</h6>\n",
    "Input:The input sequence data for this step is in the original uploaded sequence data.\n",
    "Depending on the options chosen, the preprocessing step filters sequences based on length, number of ambiguous bases and quality values if available.\n",
    "Output:The FASTA formatted file 100.preprocess.passed.fna contains the sequences which were accepted and will be passed on to the next stage of the analysis pipeline.\n",
    "Output:The FASTA formatted file 100.preprocess.removed.fna contains the sequences which were rejected and will not be passed on to the next stage of the analysis pipeline.\n",
    "<h6>Step 3 RNA stage 425</h6>\n",
    "The input sequence data for this step is in the file 100.preprocess.passed.fna.\n",
    "Sequences are pre-screened using qiime-uclust for at least 70% identity to ribosomal sequences \n",
    "from the following RNA databases (Greengenes, LSU, SSU, and RDP).\n",
    "The FASTA formatted file 425.search.rna.fna contains the predicted ribosomal sequences.\n",
    "\n",
    "<h6>Step 4 RNA stage 440 </h6>\n",
    "    <input>The input sequence data for this step is in the file 425.search.rna.fna.</input>\n",
    "    <description>Sequences are clustered at 97% identity using cd-hit. The clustering process does not remove any sequences but instead makes the similarity search step easier. Following the search, the original reads are loaded into MG-RAST for retrieval on-demand.</description>\n",
    "    <output><file>The FASTA formatted file 440.cluster.rna97.fna contains sequence clusters that have at least 70% identity to ribosomal sequences and have sequences within 97% identity.</file></output>\n",
    "    <output>\n",
    "      <file>The tab-delimited file 440.cluster.rna97.mapping identifies the sequence clusters and the sequences which describe them, each line describes a single cluster.</file>\n",
    "      <column>Representative sequence ID, including hit location and strand, e.g. 11954908_1_121_+</column>\n",
    "      <column>List of IDs, including hit location and strand, for other sequences in the cluster, e.g. 11898451_1_119_+,11944918_19_121_+</column>\n",
    "      <column>List of percentage identities to the representative read sequence, e.g. 97.5%,100.0%</column>\n",
    "    </output>\n",
    "<h6>Step 4 RNA stage 450 </h6>\n",
    "<input>The input sequence data for this step is in the file 440.cluster.rna97.fna.</input>\n",
    "   Some of the annotated (.expand) files contain index numbers for md5s and annotations. Mapping files for these numbers can be found \n",
    "    a href='ftp://ftp.metagenomics.anl.gov/data/M5nr/annotations'\n",
    "    \n",
    "      The similarity output from BLAT against the RNA databases (Greengenes, LSU, SSU, and RDP) is the file \n",
    "        450.rna.sims in BLAST m8 format. This includes the identifier for the query which is either the FASTA \n",
    "        id or the cluster ID,\n",
    "        and the internal identifier for the sequence that it hits.\n",
    "        \n",
    "      <column>Query id (either fasta ID or cluster ID), e.g. 11847922</column>\n",
    "      <column>Hit id, e.g. 501336051b4d5d412fb84afe8b7fdd87</column>\n",
    "      <column>percentage identity, e.g. 100.00</column>\n",
    "      <column>alignment length, e.g. 107</column>\n",
    "      <column>number of mismatches, e.g. 0</column>\n",
    "      <column>number of gap openings, e.g. 0</column>\n",
    "      <column>q.start, e.g. 1</column>\n",
    "      <column>q.end, e.g. 107</column>\n",
    "      <column>s.start, e.g. 1262</column>\n",
    "      <column>s.end, e.g. 1156</column>\n",
    "      <column>e-value, e.g. 1.7e-54</column>\n",
    "      <column>score in bits, e.g. 210.0</column>\n",
    "\n",
    "\n",
    "<p></p>\n",
    "<p></p>\n",
    "http://qiime.org/scripts/pick_otus.html\n",
    "<p></p>\n",
    "<img src=\"block.png\">\n",
    "<p></p>"
   ]
  },
  {
   "cell_type": "code",
   "execution_count": 6,
   "metadata": {},
   "outputs": [
    {
     "name": "stdout",
     "output_type": "stream",
     "text": [
      "num data files: 10\n"
     ]
    }
   ],
   "source": [
    "import os\n",
    "PATH=\"/patrik_biome_data\"\n",
    "kombucha_datafiles = os.listdir(\"patrik_biome_data\")\n",
    "print(\"num data files:\", len(kombucha_datafiles))"
   ]
  },
  {
   "cell_type": "code",
   "execution_count": 11,
   "metadata": {},
   "outputs": [],
   "source": [
    "\n",
    "\n",
    "def onlyNucleotides(s):    \n",
    "    diff_set = set(list(\"ATCG\")).difference(set(list(s)))\n",
    "    if len(diff_set)==0:\n",
    "        return True\n",
    "    return False\n",
    "\n",
    "def get_adapters(s):\n",
    "    \"\"\"\n",
    "    from string which starts with @, find the primers at the end\n",
    "    \"\"\"\n",
    "    return s[s.rfind(\":\")+1:len(s)]\n",
    "\n",
    "def contains(s,kmer):\n",
    "    \"\"\"\n",
    "    returns position of s. Is this supposed to be 0 index?\n",
    "    \"\"\"\n",
    "    pos = []\n",
    "    for i in range(0,len(s)-len(kmer)):\n",
    "        if(s[i:i+len(kmer)]==kmer):\n",
    "            pos.append(i)\n",
    "    return pos\n",
    "    \n",
    "for processLine in open('patrik_biome_data/24694/ssr_24694__R1__L001.fastq'):\n",
    "    if(processLine[0]==\"@\"):\n",
    "        adapters = get_adapters(processLine)\n",
    "        #print(\"adapters:\",adapters)\n",
    "    elif(onlyNucleotides(processLine)):\n",
    "        \"\"\"\n",
    "        \"\"\"\n",
    "        #print(processLine)\n",
    "        #test if begnining /end have adapters\n",
    "    \n",
    "#from inspection test for CTTGAG at end of string.\n",
    "#this is not an adapter? \n",
    "\n",
    "#from inspection test for CTGTG at beginning or 1 hamming dist away?\n",
    "#every string begins w/CT; this cant be right. Or has GCCAGC in start, not at 0. \n",
    "#GCCAGCAGC vs. GCCAGC. Longer is less probable. \n"
   ]
  },
  {
   "cell_type": "code",
   "execution_count": null,
   "metadata": {},
   "outputs": [],
   "source": [
    "file = open(\"ssr_24694__R2__L001.fastq\", 'r')\n",
    "\n",
    "for x in range(0,5):\n",
    "    print(file.readline())"
   ]
  },
  {
   "cell_type": "code",
   "execution_count": null,
   "metadata": {},
   "outputs": [],
   "source": [
    "file = open(\"ssr_24694__R1__L002.fastq\", 'r')\n",
    "\n",
    "for x in range(0,5):\n",
    "    print(file.readline())\n",
    "    "
   ]
  },
  {
   "cell_type": "code",
   "execution_count": null,
   "metadata": {},
   "outputs": [],
   "source": [
    "file = open(\"ssr_24694__R2__L002.fastq\", 'r')\n",
    "\n",
    "for x in range(0,5):\n",
    "    print(file.readline())"
   ]
  },
  {
   "cell_type": "code",
   "execution_count": null,
   "metadata": {},
   "outputs": [],
   "source": [
    "#the format of the fastq file is colon delimited\n",
    "1) illumina instrument: NS500457\n",
    "2) run id: 68\n",
    "3) flow cell id: H3YFWAFXX\n",
    "4) flow cell lane: 1\n",
    "5) x coordinate: 11101\n",
    "6) y coordinate: 2470\n",
    "7) unknown????\n",
    "8) member of pair, 1 or 2? \n",
    "9) N=nonfiltered , Y = filtered, we are nonfiltered\n",
    "10) 0 if no contol bits are on else even number\n",
    "12) index sequence. there are 2 here? \n",
    "\n",
    "\n"
   ]
  },
  {
   "cell_type": "code",
   "execution_count": null,
   "metadata": {},
   "outputs": [],
   "source": [
    "The first step is to run fastqc on the fastq files using the command line or galaxy. "
   ]
  },
  {
   "cell_type": "code",
   "execution_count": 8,
   "metadata": {},
   "outputs": [
    {
     "name": "stdout",
     "output_type": "stream",
     "text": [
      "@mutant-no_snps.gff-24960/1\n",
      "\n",
      "AATGTTGTCACTTGGATTCAAATGACATTTTAAATCTAATTATTCATGAATCGAACTAGTACGAAATGCAATGAGCATCTTGTCTAGTTCGATTTTTTAATGTCTAAAAATGTCGTATATGTAATCAGAGTAGAAAGTGTTGAGGCGTTT\n",
      "\n",
      "+\n",
      "\n",
      "5??A9?BBBDDDBEDDBFF+FGHHIIHHHEIHIIHIIAHDHIIHIG#IIHIFHHHFGIII*IHHHIHFIIHGICIHHIHFFFHHHIIIIIHIHDHIIIAHHH?GHHHHHF@HGGH6GGHEEGBGGGGGFGFE6FGFEFE?GF5EGGEEAC\n",
      "\n",
      "@mutant-no_snps.gff-24958/1\n",
      "\n",
      "@mutant-no_snps.gff-24960/2\n",
      "\n",
      "TCCATTCATCGGTACAACTGTATTTGGTGGATTATCATTAGCGTTAGGTGCAGCGTTATTAGCTGGACGTCGTCGCGAACTATAAAAACAAACAATACACAACGATAGATATCATTTTATCCAAACCAATTTTAACTTATATACGTTGAT\n",
      "\n",
      "+\n",
      "\n",
      "????9BBB@DBD@B<DGFFEFAIHFHEH>FIHHHHICIHFIIIIC9H9H8FCCAHHI=DIG?HEHC?I5HEIGEHHFHHIH?=HEIFA/H<HHHHHIIG,HHH-+HHF@FEHGFFHEH*FF;HDHGGHGDHD*GE-E-EFEGD;;G*EG-\n",
      "\n",
      "@mutant-no_snps.gff-24958/2\n",
      "\n"
     ]
    }
   ],
   "source": [
    "\n",
    "file = open(\"mutant_R1.fastq\", 'r')\n",
    "\n",
    "for x in range(0,5):\n",
    "    print(file.readline())\n",
    "\n",
    "\n",
    "\n",
    "file = open(\"mutant_R2.fastq\", 'r')\n",
    "\n",
    "for x in range(0,5):\n",
    "    print(file.readline())\n",
    "\n",
    "\n"
   ]
  },
  {
   "cell_type": "code",
   "execution_count": null,
   "metadata": {},
   "outputs": [],
   "source": [
    "#from the sequences figure out which ones start/end with adapters or some fraction of the adapters\n"
   ]
  },
  {
   "cell_type": "markdown",
   "metadata": {},
   "source": [
    "<img src=\"mgrast1.png\">\n",
    "<img src=\"mgrast2.png\">\n",
    "<img src=\"mgrast3.png\">\n",
    "<img src=\"mgrast4.png\">\n",
    "<img src=\"mgrast5.png\">\n",
    "<img src=\"mgrast6.png\">\n",
    "<img src=\"mgrast7.png\">\n",
    "<img src=\"mgrast8.png\">\n",
    "<img src=\"mgrast9.png\">\n",
    "<img src=\"mgrast10.png\">\n",
    "<img src=\"mgrast11.png\">\n",
    "<img src=\"mgrast12.png\">\n"
   ]
  },
  {
   "cell_type": "markdown",
   "metadata": {},
   "source": [
    "<h6>ubiome Pie charts</h6>\n",
    "<img src=\"patrik_biome_data/patrik1.png\">\n",
    "<img src=\"patrik_biome_data/patrik2.png\">\n",
    "<img src=\"patrik_biome_data/patrik3.png\">\n",
    "<img src=\"patrik_biome_data/patrik4.png\">\n",
    "<img src=\"patrik_biome_data/patrik5.png\">\n",
    "<img src=\"patrik_biome_data/patrik6.png\">\n",
    "<img src=\"patrik_biome_data/patrik7.png\">\n",
    "<img src=\"patrik_biome_data/patrik8.png\">\n"
   ]
  },
  {
   "cell_type": "markdown",
   "metadata": {},
   "source": [
    "\n",
    "<img src=\"patrik_biome_data/pb_fastqc1.png\">\n"
   ]
  },
  {
   "cell_type": "code",
   "execution_count": null,
   "metadata": {},
   "outputs": [],
   "source": []
  }
 ],
 "metadata": {
  "kernelspec": {
   "display_name": "Python 3",
   "language": "python",
   "name": "python3"
  },
  "language_info": {
   "codemirror_mode": {
    "name": "ipython",
    "version": 3
   },
   "file_extension": ".py",
   "mimetype": "text/x-python",
   "name": "python",
   "nbconvert_exporter": "python",
   "pygments_lexer": "ipython3",
   "version": "3.6.1"
  }
 },
 "nbformat": 4,
 "nbformat_minor": 2
}
