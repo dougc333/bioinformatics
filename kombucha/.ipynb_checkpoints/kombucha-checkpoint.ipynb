{
 "cells": [
  {
   "cell_type": "markdown",
   "metadata": {},
   "source": [
    "<h6>kombucha metagenomic analysis</h6>\n",
    "https://play.google.com/store/books/details/O_Reilly_Media_Inc_BioCoder_8?id=FqwwCgAAQBAJ"
   ]
  },
  {
   "cell_type": "markdown",
   "metadata": {},
   "source": [
    "<h6>MG-RAST follows 2 workflows, we are doing the lower and simpler RNA workflow </h6>\n",
    "<img src=\"workflow.png\">\n",
    "<img src=\"block.png\">"
   ]
  },
  {
   "cell_type": "code",
   "execution_count": 6,
   "metadata": {},
   "outputs": [
    {
     "name": "stdout",
     "output_type": "stream",
     "text": [
      "num data files: 10\n"
     ]
    }
   ],
   "source": [
    "import os\n",
    "PATH=\"/patrik_biome_data\"\n",
    "kombucha_datafiles = os.listdir(\"patrik_biome_data\")\n",
    "print(\"num data files:\", len(kombucha_datafiles))"
   ]
  },
  {
   "cell_type": "code",
   "execution_count": 11,
   "metadata": {},
   "outputs": [],
   "source": [
    "\n",
    "\n",
    "def onlyNucleotides(s):    \n",
    "    diff_set = set(list(\"ATCG\")).difference(set(list(s)))\n",
    "    if len(diff_set)==0:\n",
    "        return True\n",
    "    return False\n",
    "\n",
    "def get_adapters(s):\n",
    "    \"\"\"\n",
    "    from string which starts with @, find the primers at the end\n",
    "    \"\"\"\n",
    "    return s[s.rfind(\":\")+1:len(s)]\n",
    "\n",
    "def contains(s,kmer):\n",
    "    \"\"\"\n",
    "    returns position of s. Is this supposed to be 0 index?\n",
    "    \"\"\"\n",
    "    pos = []\n",
    "    for i in range(0,len(s)-len(kmer)):\n",
    "        if(s[i:i+len(kmer)]==kmer):\n",
    "            pos.append(i)\n",
    "    return pos\n",
    "    \n",
    "for processLine in open('patrik_biome_data/24694/ssr_24694__R1__L001.fastq'):\n",
    "    if(processLine[0]==\"@\"):\n",
    "        adapters = get_adapters(processLine)\n",
    "        #print(\"adapters:\",adapters)\n",
    "    elif(onlyNucleotides(processLine)):\n",
    "        \"\"\"\n",
    "        \"\"\"\n",
    "        #print(processLine)\n",
    "        #test if begnining /end have adapters\n",
    "    \n",
    "#from inspection test for CTTGAG at end of string.\n",
    "#this is not an adapter? \n",
    "\n",
    "#from inspection test for CTGTG at beginning or 1 hamming dist away?\n",
    "#every string begins w/CT; this cant be right. Or has GCCAGC in start, not at 0. \n",
    "#GCCAGCAGC vs. GCCAGC. Longer is less probable. \n"
   ]
  },
  {
   "cell_type": "code",
   "execution_count": null,
   "metadata": {},
   "outputs": [],
   "source": [
    "file = open(\"ssr_24694__R2__L001.fastq\", 'r')\n",
    "\n",
    "for x in range(0,5):\n",
    "    print(file.readline())"
   ]
  },
  {
   "cell_type": "code",
   "execution_count": null,
   "metadata": {},
   "outputs": [],
   "source": [
    "file = open(\"ssr_24694__R1__L002.fastq\", 'r')\n",
    "\n",
    "for x in range(0,5):\n",
    "    print(file.readline())\n",
    "    "
   ]
  },
  {
   "cell_type": "code",
   "execution_count": null,
   "metadata": {},
   "outputs": [],
   "source": [
    "file = open(\"ssr_24694__R2__L002.fastq\", 'r')\n",
    "\n",
    "for x in range(0,5):\n",
    "    print(file.readline())"
   ]
  },
  {
   "cell_type": "code",
   "execution_count": null,
   "metadata": {},
   "outputs": [],
   "source": [
    "#the format of the fastq file is colon delimited\n",
    "1) illumina instrument: NS500457\n",
    "2) run id: 68\n",
    "3) flow cell id: H3YFWAFXX\n",
    "4) flow cell lane: 1\n",
    "5) x coordinate: 11101\n",
    "6) y coordinate: 2470\n",
    "7) unknown????\n",
    "8) member of pair, 1 or 2? \n",
    "9) N=nonfiltered , Y = filtered, we are nonfiltered\n",
    "10) 0 if no contol bits are on else even number\n",
    "12) index sequence. there are 2 here? \n",
    "\n",
    "\n"
   ]
  },
  {
   "cell_type": "code",
   "execution_count": null,
   "metadata": {},
   "outputs": [],
   "source": [
    "The first step is to run fastqc on the fastq files using the command line or galaxy. "
   ]
  },
  {
   "cell_type": "code",
   "execution_count": 8,
   "metadata": {},
   "outputs": [
    {
     "name": "stdout",
     "output_type": "stream",
     "text": [
      "@mutant-no_snps.gff-24960/1\n",
      "\n",
      "AATGTTGTCACTTGGATTCAAATGACATTTTAAATCTAATTATTCATGAATCGAACTAGTACGAAATGCAATGAGCATCTTGTCTAGTTCGATTTTTTAATGTCTAAAAATGTCGTATATGTAATCAGAGTAGAAAGTGTTGAGGCGTTT\n",
      "\n",
      "+\n",
      "\n",
      "5??A9?BBBDDDBEDDBFF+FGHHIIHHHEIHIIHIIAHDHIIHIG#IIHIFHHHFGIII*IHHHIHFIIHGICIHHIHFFFHHHIIIIIHIHDHIIIAHHH?GHHHHHF@HGGH6GGHEEGBGGGGGFGFE6FGFEFE?GF5EGGEEAC\n",
      "\n",
      "@mutant-no_snps.gff-24958/1\n",
      "\n",
      "@mutant-no_snps.gff-24960/2\n",
      "\n",
      "TCCATTCATCGGTACAACTGTATTTGGTGGATTATCATTAGCGTTAGGTGCAGCGTTATTAGCTGGACGTCGTCGCGAACTATAAAAACAAACAATACACAACGATAGATATCATTTTATCCAAACCAATTTTAACTTATATACGTTGAT\n",
      "\n",
      "+\n",
      "\n",
      "????9BBB@DBD@B<DGFFEFAIHFHEH>FIHHHHICIHFIIIIC9H9H8FCCAHHI=DIG?HEHC?I5HEIGEHHFHHIH?=HEIFA/H<HHHHHIIG,HHH-+HHF@FEHGFFHEH*FF;HDHGGHGDHD*GE-E-EFEGD;;G*EG-\n",
      "\n",
      "@mutant-no_snps.gff-24958/2\n",
      "\n"
     ]
    }
   ],
   "source": [
    "\n",
    "file = open(\"mutant_R1.fastq\", 'r')\n",
    "\n",
    "for x in range(0,5):\n",
    "    print(file.readline())\n",
    "\n",
    "\n",
    "\n",
    "file = open(\"mutant_R2.fastq\", 'r')\n",
    "\n",
    "for x in range(0,5):\n",
    "    print(file.readline())\n",
    "\n",
    "\n"
   ]
  },
  {
   "cell_type": "code",
   "execution_count": null,
   "metadata": {},
   "outputs": [],
   "source": [
    "#from the sequences figure out which ones start/end with adapters or some fraction of the adapters\n"
   ]
  },
  {
   "cell_type": "markdown",
   "metadata": {},
   "source": [
    "<img src=\"mgrast1.png\">\n",
    "<img src=\"mgrast2.png\">\n",
    "<img src=\"mgrast3.png\">\n",
    "<img src=\"mgrast4.png\">\n",
    "<img src=\"mgrast5.png\">\n",
    "<img src=\"mgrast6.png\">\n",
    "<img src=\"mgrast7.png\">\n",
    "<img src=\"mgrast8.png\">\n",
    "<img src=\"mgrast9.png\">\n",
    "<img src=\"mgrast10.png\">\n",
    "<img src=\"mgrast11.png\">\n",
    "<img src=\"mgrast12.png\">\n"
   ]
  },
  {
   "cell_type": "markdown",
   "metadata": {},
   "source": [
    "<h6>ubiome Pie charts</h6>\n",
    "<img src=\"patrik_biome_data/patrik1.png\">\n",
    "<img src=\"patrik_biome_data/patrik2.png\">\n",
    "<img src=\"patrik_biome_data/patrik3.png\">\n",
    "<img src=\"patrik_biome_data/patrik4.png\">\n",
    "<img src=\"patrik_biome_data/patrik5.png\">\n",
    "<img src=\"patrik_biome_data/patrik6.png\">\n",
    "<img src=\"patrik_biome_data/patrik7.png\">\n",
    "<img src=\"patrik_biome_data/patrik8.png\">\n"
   ]
  },
  {
   "cell_type": "code",
   "execution_count": null,
   "metadata": {},
   "outputs": [],
   "source": [
    "correlate teh above with the ubiome json file"
   ]
  }
 ],
 "metadata": {
  "kernelspec": {
   "display_name": "Python 3",
   "language": "python",
   "name": "python3"
  },
  "language_info": {
   "codemirror_mode": {
    "name": "ipython",
    "version": 3
   },
   "file_extension": ".py",
   "mimetype": "text/x-python",
   "name": "python",
   "nbconvert_exporter": "python",
   "pygments_lexer": "ipython3",
   "version": "3.6.1"
  }
 },
 "nbformat": 4,
 "nbformat_minor": 2
}
