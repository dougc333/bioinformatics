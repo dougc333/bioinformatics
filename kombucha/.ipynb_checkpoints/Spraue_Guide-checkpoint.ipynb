{
 "cells": [
  {
   "cell_type": "code",
   "execution_count": null,
   "metadata": {},
   "outputs": [],
   "source": [
    "<h6>Richard Sprague Biome </h6>\n",
    "https://play.google.com/store/books/details/O_Reilly_Media_Inc_BioCoder_8?id=FqwwCgAAQBAJ\n",
    "\n",
    "<p>\n",
    "JSON file: \n",
    "<p></p> \n",
    "count: number of organisms in sample. \n",
    "</p>\n",
    "<p></p>\n",
    "count_norm: normalized, PPM, parts per million\n",
    "<p></p>\n",
    "tax_name: taxonomy\n",
    "<p></p>\n",
    "tax_rank: level\n",
    "<p></p>\n",
    "RS uses excel to plot JSON info in graph. JSON data same as CSV data. \n",
    "<p></p>\n"
   ]
  }
 ],
 "metadata": {
  "kernelspec": {
   "display_name": "Python 3",
   "language": "python",
   "name": "python3"
  },
  "language_info": {
   "codemirror_mode": {
    "name": "ipython",
    "version": 3
   },
   "file_extension": ".py",
   "mimetype": "text/x-python",
   "name": "python",
   "nbconvert_exporter": "python",
   "pygments_lexer": "ipython3",
   "version": "3.6.1"
  }
 },
 "nbformat": 4,
 "nbformat_minor": 2
}
