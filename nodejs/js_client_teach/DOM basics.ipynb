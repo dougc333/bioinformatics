{
 "cells": [
  {
   "cell_type": "code",
   "execution_count": null,
   "metadata": {},
   "outputs": [],
   "source": [
    "<h6>DOM</h6>\n",
    "The browswer elements are contained the DOM data structure. <br/>\n",
    "<img src=\"the-document-object-model-dom.gif\"><br/>\n",
    "windows.onload(function(){<br/>\n",
    "    &nbsp;&nbsp;console.write(\"when you see this all the HTML and windows components like images have been downloaded and <br/>\n",
    "    &ensp;&nbsp;are rendered.\");<br/>\n",
    "});<br/>\n",
    "$(document).ready(function(){<br/>\n",
    "    &nbsp;&nbsp;console.write(\"in contrast only HTML elements are loaded and the DOM is ready. The content of the images<br/>\n",
    "    &nbsp;&nbsp;  can still be downloaded. You can define event handlers for HTML elements after DOM ready. This <br/>\n",
    "    &nbsp;&nbsp;  happens before window.onload\");<br/>\n",
    "   &nbsp;&nbsp;  <br/>\n",
    "});<br/>\n",
    "<h6>Adding event listeners to DOMS</h6>\n",
    "An event listener is code which is executed on an event such as a mouse click or data sent from a server. "
   ]
  },
  {
   "cell_type": "markdown",
   "metadata": {},
   "source": []
  }
 ],
 "metadata": {
  "kernelspec": {
   "display_name": "Python 3",
   "language": "python",
   "name": "python3"
  },
  "language_info": {
   "codemirror_mode": {
    "name": "ipython",
    "version": 3
   },
   "file_extension": ".py",
   "mimetype": "text/x-python",
   "name": "python",
   "nbconvert_exporter": "python",
   "pygments_lexer": "ipython3",
   "version": "3.6.1"
  }
 },
 "nbformat": 4,
 "nbformat_minor": 2
}
