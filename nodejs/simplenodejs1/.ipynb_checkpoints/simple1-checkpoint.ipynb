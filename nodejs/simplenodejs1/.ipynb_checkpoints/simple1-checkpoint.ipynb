{
 "cells": [
  {
   "cell_type": "code",
   "execution_count": null,
   "metadata": {},
   "outputs": [],
   "source": [
    "<h6>NodeJS Lecture 1</h6>\n",
    "Goal: nodejs runs a file\n",
    "1) create a subdirectory\n",
    "2) JS Console.log statement: test1.js is the simplest way to execute a print statement. node test1.js. This has nothing to do with functional\n",
    "programming. \n",
    "3) JS module object: test2.js is an applicaiton js file and it calls test2a.js from a function in a module. \n",
    "This uses module.export and the ./ path to import modules. This has no functions and has nothhing to do with functtional\n",
    "programming. Defining conventions. \n",
    "4) JS module object and function: test3.js"
   ]
  },
  {
   "cell_type": "code",
   "execution_count": null,
   "metadata": {},
   "outputs": [],
   "source": []
  }
 ],
 "metadata": {
  "kernelspec": {
   "display_name": "Python 3",
   "language": "python",
   "name": "python3"
  },
  "language_info": {
   "codemirror_mode": {
    "name": "ipython",
    "version": 3
   },
   "file_extension": ".py",
   "mimetype": "text/x-python",
   "name": "python",
   "nbconvert_exporter": "python",
   "pygments_lexer": "ipython3",
   "version": "3.6.1"
  }
 },
 "nbformat": 4,
 "nbformat_minor": 2
}
