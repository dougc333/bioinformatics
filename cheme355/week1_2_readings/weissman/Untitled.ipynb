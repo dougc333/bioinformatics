{
 "cells": [
  {
   "cell_type": "markdown",
   "metadata": {},
   "source": [
    "<img src=\"p1.png\">\n",
    "<li>EF-TU(43kDA); elongation factor. tRNAs have an anticodon for attaching to mRNA and amino acids attached to them\n",
    "which they will transfer to the elongated strand. mRNAs contain the codons to match w/tRNA. The ribosome walks\n",
    "the mRNA and attaches the tRNA to the current polypeptide chain. There are 3 sites on the ribosome for tRNA\n",
    "binding; A, P, E. The p-site holds teh tRNA connected to the synthesized polypeptide chain. A site for charged tRNA \n",
    "with complementary anti-codon. EF-TU transports the peptide chain from the P site in the ribosome to the A \n",
    "site in the ribosome</li>\n",
    "<li>Lpp(8.33kDA from https://www.bioinformatics.org/sms/prot_mw.html of fasta sequence): lipoprotein, cell membrane. most abundant protein in ecoli. 750k copies/cell. 2% dry weight.</li>\n",
    "<li>OmpA: outer membrane ecoli protein</li>\n",
    "<li>RpsA: Binds mRNA upstream of the Shine-Dalgarno (SD) sequence and helps it bind to the 30S ribosomal subunit; \n",
    "acts as an RNA chaperone to unfold structured mRNA on the ribosome but is not essential for mRNAs with strong SDs \n",
    "and little 5'-UTR structure, thus it may help fine-tune which mRNAs that are translated </li>\n",
    "<li>OmpCOuter membrane protein:</li>\n",
    "<li>AceE:pyruvate dehydrogenase (PDH) complex</li>\n",
    "<li>EF-G:elongation factor, catalyzes translocation</li>\n",
    "<li>RpIL: ribosome protein for accurate translation</li>\n",
    "<li>AceF: \"core\" component of the pyruvate dehydrogenase multienzyme complex</li>\n",
    "<li>RpsB: Required for ribosomal protein S1 to bind to the 30S subunit</li>\n",
    "\n",
    "\n",
    "<img src=\"p1a.png\">\n",
    "<img src=\"p3.png\">\n",
    "<img src=\"p4.png\">\n",
    "<img src=\"p5.png\">\n"
   ]
  },
  {
   "cell_type": "code",
   "execution_count": null,
   "metadata": {},
   "outputs": [],
   "source": []
  }
 ],
 "metadata": {
  "kernelspec": {
   "display_name": "Python 3",
   "language": "python",
   "name": "python3"
  },
  "language_info": {
   "codemirror_mode": {
    "name": "ipython",
    "version": 3
   },
   "file_extension": ".py",
   "mimetype": "text/x-python",
   "name": "python",
   "nbconvert_exporter": "python",
   "pygments_lexer": "ipython3",
   "version": "3.6.1"
  }
 },
 "nbformat": 4,
 "nbformat_minor": 2
}
