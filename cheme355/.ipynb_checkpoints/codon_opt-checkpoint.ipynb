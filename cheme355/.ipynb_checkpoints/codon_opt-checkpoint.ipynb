{
 "cells": [
  {
   "cell_type": "markdown",
   "metadata": {},
   "source": [
    "<h6>Codon optimization EColi Tn5</h6>\n",
    "<li>60m tRNA/500 tRNA genes websearch</li>\n",
    "Linear interpolate to 86 Ecoli\n",
    "<li>500/86 = 60m/x; x=60m(86)/(500)=10.3m<li>\n",
    "<li>http://lowelab.ucsc.edu/GtRNAdb/Esch_coli_K12/Esch_coli_K12-summary-codon.html</li>\n",
    "<img src=\"e1.png\">"
   ]
  },
  {
   "cell_type": "code",
   "execution_count": null,
   "metadata": {},
   "outputs": [],
   "source": []
  }
 ],
 "metadata": {
  "kernelspec": {
   "display_name": "Python 3",
   "language": "python",
   "name": "python3"
  },
  "language_info": {
   "codemirror_mode": {
    "name": "ipython",
    "version": 3
   },
   "file_extension": ".py",
   "mimetype": "text/x-python",
   "name": "python",
   "nbconvert_exporter": "python",
   "pygments_lexer": "ipython3",
   "version": "3.6.1"
  }
 },
 "nbformat": 4,
 "nbformat_minor": 2
}
