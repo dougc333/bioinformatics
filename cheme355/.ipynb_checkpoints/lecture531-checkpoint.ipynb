{
 "cells": [
  {
   "cell_type": "markdown",
   "metadata": {},
   "source": [
    "<h6>Metabolic Engineering</h6>\n",
    "Think of metabolism as controlled combustion. \n",
    "Glucose + O2 -> CO2+ATP\n",
    "How to model this cell w this reaction? Teh job of the cell is to replicate. 1) caputer E from carbon\n",
    "source and haverst carbon. \n",
    "\n",
    "<img src=\"met1.png\">\n",
    "What are some problems w/above reaction? \n",
    "Sugar: causes osomtic stress, O2 is dissolved O2, CO2 causes pH drop. \n",
    "<h6>Review Basic metabolism</h6>\n",
    "Many types of metabolism. Framework for not memorizing equations. >1000s reactions in cell. How to classify them? \n",
    "Glucose via Glycosis to pyruvate then via Krebs cycle losing electons via NADH and outputs CO2. \n",
    "\n",
    "1)glycolysis: glucose to pyruvate to acetyl coenzymeA to TCA cycle/krebs cycle/citric acid cycle. \n",
    "\n",
    "2) oxidative phosphoralation: is the process in which ATP is formed as a result of the transfer of electrons from NADH or FADH 2 to O 2 by a series of electron carriers. This process, which takes place in mitochondria, \n",
    "    is the major source of ATP in aerobic organisms\n",
    "<img src=\"met2.png\">\n",
    "1 NADH = 3ATPs. \n",
    "Glycolysis get net 38ATP. What about fermetation? \n",
    "<img src=\"met3.png\">\n",
    "<img src=\"met4.png\">\n",
    "Citric acid cycle to get NADH\n",
    "<imr src=\"met5.png\">\n",
    "anerobic fermentation where are electrons going? need a low energy acceptor. fermentation of ethanol as \n",
    "example. put electrons into pyruvate and get out ethanol. This is different than Schwar lecture were\n",
    "he is adding oxygen into aerobic fermentation. These metabolism pathways we use for synthesis. \n",
    "<imr src=\"met6.png\">\n",
    "Only 12 precursors. \n",
    "<img src=\"met7.png\">\n",
    "<img src=\"met8.png\">\n",
    "<img src=\"met9.png\">\n",
    "ATP\n",
    "<img src=\"met10.png\">\n",
    "NAD\n",
    "<img src=\"met11.png\">\n",
    "FAD? different redox??\n",
    "<img src=\"met12.png\">\n",
    "coenzyme A\n",
    "<img src=\"met13.png\">\n",
    "<h6>Lysine example</h6>\n",
    "How to amke? Fermentation, extraction, etc.. how to increase yield from existing cellular? \n",
    "Look at metabolism; TCA cycle for lysine biosynthesis convert pyruvate to aspartate via Aspartite kinase to add one molecule\n",
    "of pyruvate to get to lysine. 2 points. 1) how much glucose coming in gets to lysine. W/glucose gets 2 pyrufavate, lysine goes to 1 1/1.3\n",
    "max is 1 mol lysine to 1.5 moles glucose. theoretical max. Never attained. Wild type doesnt get this yield. \n",
    "<img src='lysine.png'>\n",
    "Control step is the aspartate kinase. We know that aspartate goes to many other AA. We need this step to be controlled. \n",
    "this relates to how you engineer to bypass this bottleneck. Asp kinase is allosterically regulated. What happens when you get \n",
    "a binding? Inhibits the enzyme. Lysine limits. Process called Antimetabolic resistance. Grow cell in presence of antimetabolic \n",
    "resistance then w/evolution you get strains which aren't bound by this lysine regulation or allosteric binding. \n",
    "\n",
    "<h6>Metabolic stoichimetry</h6>\n",
    "\n",
    "<img src=\"sto1.png\">\n",
    "<img src=\"sto2.png\">\n",
    "<img src=\"sto3.png\">\n",
    "Can tell how much O2 you need wo water. use electron balance if know output of product, ratios. "
   ]
  },
  {
   "cell_type": "code",
   "execution_count": null,
   "metadata": {},
   "outputs": [],
   "source": [
    "How to make "
   ]
  }
 ],
 "metadata": {
  "kernelspec": {
   "display_name": "Python 3",
   "language": "python",
   "name": "python3"
  },
  "language_info": {
   "codemirror_mode": {
    "name": "ipython",
    "version": 3
   },
   "file_extension": ".py",
   "mimetype": "text/x-python",
   "name": "python",
   "nbconvert_exporter": "python",
   "pygments_lexer": "ipython3",
   "version": "3.6.5"
  }
 },
 "nbformat": 4,
 "nbformat_minor": 2
}
