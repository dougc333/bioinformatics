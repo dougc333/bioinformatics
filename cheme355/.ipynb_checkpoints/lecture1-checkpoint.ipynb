{
 "cells": [
  {
   "cell_type": "code",
   "execution_count": null,
   "metadata": {},
   "outputs": [],
   "source": [
    "<h6>what need to make xanthan in Ecoli?</h6>\n",
    "In nature you have bacteria which takes in glucose and outputs xanthan\n",
    "change this to take in lactose output xanthan\n",
    "<img src=\"lec1.png\">\n",
    "We need\n",
    "<li>1) enzyme to convert lactose (sugar dimer) to individual companents, glusocse. ecoli has genes to do this.\n",
    "enzyme lacz can break up lactose to glucose, there is gene in ecoli which does this. </li>\n",
    "<li>2) protein for importing lacose, ecoli membrane allows you take in lactose, there is another piece of DNA allowing\n",
    "this</li>\n",
    "<li>3) source of genes for 1 and 2. </li> Cant just stick in genes into an organism and expect them to work. Need\n",
    "something to transcribe them. You use a PXc or promoter to start the mRNA transcription that you borrow from another\n",
    "organism, a virus, a Xanthamanos phage. \n",
    "<img src=\"lec2.png\">\n",
    "<img src=\"lec3.png\">\n",
    "<img src=\"lec4.png\">\n",
    "<img src=\"lec5.png\">\n",
    "<img src=\"lec6.png\">\n"
   ]
  }
 ],
 "metadata": {
  "kernelspec": {
   "display_name": "Python 3",
   "language": "python",
   "name": "python3"
  },
  "language_info": {
   "codemirror_mode": {
    "name": "ipython",
    "version": 3
   },
   "file_extension": ".py",
   "mimetype": "text/x-python",
   "name": "python",
   "nbconvert_exporter": "python",
   "pygments_lexer": "ipython3",
   "version": "3.6.1"
  }
 },
 "nbformat": 4,
 "nbformat_minor": 2
}
