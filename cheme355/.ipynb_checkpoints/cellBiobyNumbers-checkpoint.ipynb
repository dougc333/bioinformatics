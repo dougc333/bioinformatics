{
 "cells": [
  {
   "cell_type": "code",
   "execution_count": null,
   "metadata": {},
   "outputs": [],
   "source": [
    "Cell p76-87\n",
    "Size of biochemical units:\n",
    "<img src=\"s1.png\">\n",
    "\n"
   ]
  },
  {
   "cell_type": "code",
   "execution_count": null,
   "metadata": {},
   "outputs": [],
   "source": [
    "<h6>How many ribosomes in Cell?</h6>"
   ]
  },
  {
   "cell_type": "code",
   "execution_count": null,
   "metadata": {},
   "outputs": [],
   "source": [
    "<h6>p3xx-3xx</h6>\n",
    "RNA transcrxiption vs. RNA translation rates. \n",
    "Transcription:\n",
    "Translation:\n",
    "\n",
    "\n",
    "They are equal\n",
    "<img src 'rna1.png'>\n",
    "mRNA: messenger RNA\n",
    "rRNA:\n",
    "tRNA:\n",
    "RNA:\n",
    "\n",
    "In EColi: transcription of mRNA/stable rRNA/tRNA is 1k-10k RNA polymerase at 40/80 nt/sec. \n",
    "Translation of proteins in 10k-100k ribosomes @max of 20nt aa/sec. "
   ]
  }
 ],
 "metadata": {
  "kernelspec": {
   "display_name": "Python 3",
   "language": "python",
   "name": "python3"
  },
  "language_info": {
   "codemirror_mode": {
    "name": "ipython",
    "version": 3
   },
   "file_extension": ".py",
   "mimetype": "text/x-python",
   "name": "python",
   "nbconvert_exporter": "python",
   "pygments_lexer": "ipython3",
   "version": "3.6.1"
  }
 },
 "nbformat": 4,
 "nbformat_minor": 2
}
