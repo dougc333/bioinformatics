{
 "cells": [
  {
   "cell_type": "code",
   "execution_count": null,
   "metadata": {},
   "outputs": [],
   "source": [
    "Other bacteria like Bacillus subtilis and Agrobacterium tumefaciens act as a final host cells. Cloning \n",
    "vectors that funciton in EColi can have a second ORI to enable the plasmid to replicate in a separate\n",
    "host cell! Shuttle vectors are vectors which can operate in 2 different hosts. Prokaryotes dont have intons, Eukaryotes\n",
    "do. There are some shuttle vectors which can operate in both. To create a shuttle vector, start with an Ecoli plasmid then \n",
    "combine the Ecoli plasmid part with the insert and antibiotic resistence gene with part of the host cell specific\n",
    "plasmid with a origin of replication. This ORI is different than the Ecoli plasmid ORI. \n",
    "<img src=\"g1.png\">\n",
    "<img src=\"g2.png\">\n",
    "<img src=\"g3.png\">\n",
    "<img src=\"g4.png\">\n",
    "<img src=\"g5.png\">\n",
    "<img src=\"g6.png\">\n",
    "<img src=\"g7.png\">\n",
    "<img src=\"g8.png\">\n",
    "<img src=\"g9.png\">\n",
    "<img src=\"g10.png\">\n",
    "<img src=\"g11.png\">\n",
    "<img src=\"g12.png\">\n",
    "<img src=\"g13.png\">\n",
    "<img src=\"g14.png\">\n",
    "<img src=\"g15.png\">\n"
   ]
  }
 ],
 "metadata": {
  "kernelspec": {
   "display_name": "Python 3",
   "language": "python",
   "name": "python3"
  },
  "language_info": {
   "codemirror_mode": {
    "name": "ipython",
    "version": 3
   },
   "file_extension": ".py",
   "mimetype": "text/x-python",
   "name": "python",
   "nbconvert_exporter": "python",
   "pygments_lexer": "ipython3",
   "version": "3.6.5"
  }
 },
 "nbformat": 4,
 "nbformat_minor": 2
}
