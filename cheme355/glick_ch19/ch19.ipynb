{
 "cells": [
  {
   "cell_type": "markdown",
   "metadata": {},
   "source": [
    "<h6>GlickCH19 759-764</h6>\n",
    "This section should introduce the Ti plasmid system for plants!!\n",
    "The T-DNA system consists of 2 plasmids, a binary plasmid and helper plasmid. The binary plasmid is a shuttle\n",
    "vector where it can replicate in ecoli and Agrobacterium tumefaciens. \n",
    "\n",
    "Plant Transformation vectors contain three key elements;\n",
    "\n",
    "<li>Plasmids Selection (creating a custom circular strand of DNA)</li>\n",
    "<li>Plasmids Replication (so that it can be easily worked with)</li>\n",
    "<li>Transfer DNA (T-DNA) region (inserting the DNA into the agrobacteria)</li>\n",
    "\n",
    "<p>Steps in plant transformation</p>\n",
    "<li>Propagate binary vector in E. coli</li>\n",
    "<li>Isolate binary vector from E.coli and engineer (introduce a foreign gene)</li>\n",
    "<li>Re-introduce engineered binary vector into E. coli to amplify</li>\n",
    "<li>Isolate engineered binary vector and introduce into Agrobacteria containing a modified (relatively small) Ti plasmid</li>\n",
    "<li>Infect plant tissue with engineered Agrobacteria (T-DNA containing the foreign gene gets inserted into a plant cell genome)</li>\n",
    "<li>In each cell T-DNA gets integrated at a different site in the genome</li>\n",
    "<li>Note: There are many variations to these steps. A custom DNA plasmid sequence can be created and replicated in more than one way.</li>\n",
    "Insects/Plants, protoxin produced by Bacillus thuringiensis for pest control.\n",
    "Other strategies  α-amylase inhibitors, protease inhibitors, and lectins. Protease inhibitors\n",
    "causes insects to eat less and die. \n",
    "<h6>Case 1: increasing expression of B. thuringiensis protoxin </h6>\n",
    "Protoxin does not exist in environment, easier to add gene to plants to express the protoxin than to spray!\n",
    "How to raise the level of protoxin production? Genes cry1Aa,  cry1Ab,  and cry1Ac, were not well expressed in plants.\n",
    "Note small percentages. How to increase production? Via codon optimization? Truncate the gene so only N terminal\n",
    "portion of Gene was available. This reduces the length of the AA sequence being produced. This is a different strategy\n",
    "finding the minimum sequence necessary. N-terminal portion of the protoxin molecule is highly conserved (~98%) and the C-terminal region is more variable (~45% conserved). \n",
    "Further work showed that all of the insecticidal-toxin activity resides within the first 646/1156 AA protein. \n",
    "<img src=\"n1.png\">\n",
    "<img src=\"n2.png\">\n",
    "<img src=\"n3.png\">\n",
    "<img src=\"n4.png\">\n",
    "<img src=\"n5.png\">\n",
    "<img src=\"n6.png\">\n"
   ]
  },
  {
   "cell_type": "code",
   "execution_count": null,
   "metadata": {},
   "outputs": [],
   "source": [
    "1.  A local crop is being ravaged by a nonenveloped virus with a single-stranded RNA genome (8,000 nucleotides long). The virus and its RNA can be readily isolated. In addition, you have antibodies against all four of the proteins encoded within the viral genome. Describe a strategy that you could use to protect the crop against this viral infection and prevent subsequent damage. \n",
    "2.  Suggest several different strategies for developing insectresistant plants. \n",
    "3.  How can protease inhibitors, α-amylase inhibitor, cholesterol oxidase, Vip proteins, and ricin each protect a plant against damage from insect predation? \n",
    "4.  How can RNAi be used to protect plants against damage from insect predation? \n",
    "5.  Suggest a couple of strategies for simultaneously protecting a plant against damage from several different viruses. \n",
    "6.  How can RNAi be used to protect plants against damage from plant viruses? \n",
    "7.  What general strategies can be employed in genetically engineering plants to be resistant to herbicides? \n",
    "8.  Suggest two different strategies for engineering plants that are resistant to the herbicide glyphosate. Why is this important? \n",
    "9.  How can crop plants be engineered to be resistant to the herbicide dicamba? \n",
    "10.  How can plants be engineered to resist damage from pathogenic soil fungi?\n",
    "11.  How can plants be genetically engineered to be resistant to pathogenic bacteria? \n",
    "12.  How can single-chain Fv antibodies be engineered to protect plants against fungal pathogens? 13.  How can a plant’s systematic acquired resistance response be engineered to confer resistance to a broad spectrum of both fungal and bacterial pathogens? 14.  What is the effect of increasing the level of oxidized glutathione within a plant? How would you genetically manipulate a plant to do this? 15.  Suggest several strategies that could be used to engineer plants that are resistant to growth inhibition by salt and by drought. 16.  You have been asked by an avocado grower to find a way to genetically engineer his crop to prevent it from ripening during shipping. What experimental approaches would you consider?"
   ]
  }
 ],
 "metadata": {
  "kernelspec": {
   "display_name": "Python 3",
   "language": "python",
   "name": "python3"
  },
  "language_info": {
   "codemirror_mode": {
    "name": "ipython",
    "version": 3
   },
   "file_extension": ".py",
   "mimetype": "text/x-python",
   "name": "python",
   "nbconvert_exporter": "python",
   "pygments_lexer": "ipython3",
   "version": "3.6.1"
  }
 },
 "nbformat": 4,
 "nbformat_minor": 2
}
