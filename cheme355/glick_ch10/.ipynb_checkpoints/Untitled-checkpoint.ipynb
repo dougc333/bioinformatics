{
 "cells": [
  {
   "cell_type": "code",
   "execution_count": null,
   "metadata": {},
   "outputs": [],
   "source": [
    "<h6>Glich Ch10 399-406</h6>"
   ]
  },
  {
   "cell_type": "code",
   "execution_count": null,
   "metadata": {},
   "outputs": [],
   "source": [
    "1.  Before the sequencing of the human genome, how would you have cloned and expressed a cDNA sequence encoding human IFN? \n",
    "You do not have a DNA hybridization probe for human IFN, although you have isolated a human cell line that can be induced to synthesize IFN approximately 100-fold over background levels. Explain your strategy. \n",
    "2.  What is the Fc portion of an antibody molecule? The Fab portion? The Fv portion? The CDR portion? \n",
    "3.  How are antibody light and heavy chains coordinately synthesized in E. coli? \n",
    "4.  How would you modify growth hormone to make it longer-acting? \n",
    "5.  Why would DNase I and alginate lyase be useful for treating cystic fibrosis?Protein Therapeutics  425 \n",
    "6.  How is the production of alginate lyase from a cloned gene detected in E. coli  transformants? \n",
    "7.  What is a combinatorial cDNA library? \n",
    "8.  How is bacteriophage M13 used to select Fv fragments that bind to specific target antigens? \n",
    "9.  What are disulfide-stabilized and scFv molecules? \n",
    "10.  How are enzymes coupled to monoclonal antibodies or Fv fragments used as therapeutic agents? \n",
    "11.  How are mouse monoclonal antibodies “humanized”? Discuss the reasons for creating humanized monoclonal antibodies. 12.  Describe a protocol for producing a therapeutic agent that targets and kills a specific cell type. 13.  How would you engineer TNF- α  to be a more specific and effective anticancer agent? 14.  What would you do to make interleukin-10 more effective for treating inflammatory bowel disease? 15.  How can the gene for DNase I be manipulated so that the enzyme becomes more effective for treating cystic fibrosis patients? 16.  How would you develop a strategy to protect at-risk women from HIV infection? 17.  How might low levels of phenylalanine be attained, other than with a phenylalanine-free diet, in patients with the human genetic disease phenylketonuria? 18.  What types of genetic manipulations can be used to generate a very large bacterial library of highly specific singlechain human monoclonal antibodies? 19.  How would you engineer a mouse so that it produces only human antibodies? 20.  What is a bispecific diabody? 21.  How would you design a short peptide so that it retains the antigen-binding specificity of an entire immunoglobulin molecule? 22.  How would select antibodies against specific antigens in E. coli? 23.  What are dual-variable-domain immunoglobulins? \n",
    "24.  How can you use a chemotherapy agent to facilitate the targeting of tumor cells with monoclonal antibodies?"
   ]
  }
 ],
 "metadata": {
  "kernelspec": {
   "display_name": "Python 3",
   "language": "python",
   "name": "python3"
  },
  "language_info": {
   "codemirror_mode": {
    "name": "ipython",
    "version": 3
   },
   "file_extension": ".py",
   "mimetype": "text/x-python",
   "name": "python",
   "nbconvert_exporter": "python",
   "pygments_lexer": "ipython3",
   "version": "3.6.1"
  }
 },
 "nbformat": 4,
 "nbformat_minor": 2
}
