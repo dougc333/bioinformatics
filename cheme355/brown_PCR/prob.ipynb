{
 "cells": [
  {
   "cell_type": "markdown",
   "metadata": {},
   "source": [
    "<h6>Prob review</h6>\n",
    "Binomial Distribtion, yes/no distributions\n",
    "<img src=\"p1.png\">\n",
    "<img src=\"p2.png\">\n",
    "<img src=\"p3.png\">\n",
    "<img src=\"p4.png\">\n",
    "<img src=\"p5.png\">\n"
   ]
  },
  {
   "cell_type": "code",
   "execution_count": 12,
   "metadata": {},
   "outputs": [
    {
     "name": "stdout",
     "output_type": "stream",
     "text": [
      "0\n",
      "1000\n",
      "2000\n",
      "3000\n",
      "4000\n",
      "5000\n",
      "6000\n",
      "7000\n",
      "8000\n",
      "9000\n",
      "10000\n",
      "11000\n",
      "12000\n",
      "13000\n",
      "14000\n",
      "15000\n",
      "16000\n",
      "17000\n",
      "18000\n",
      "19000\n",
      "20000\n",
      "21000\n",
      "22000\n",
      "23000\n",
      "4950\n",
      "23849\n"
     ]
    }
   ],
   "source": [
    "#given a set of 5000 cells, if you randomly pick one, how many random picks do you need to get 99% of all 5000?\n",
    "import random\n",
    "#4950\n",
    "dict={}\n",
    "N=0\n",
    "random.seed(42)\n",
    "\n",
    "while len(dict.keys()) < 4950:\n",
    "    pick = random.randint(1,5001)\n",
    "    if(N%1000==0):\n",
    "        print(N)\n",
    "    if pick not in dict:\n",
    "        dict[pick]=1\n",
    "    else:\n",
    "        dict[pick] +=1\n",
    "    N += 1\n",
    "print (len(dict.keys()))\n",
    "print(N)"
   ]
  },
  {
   "cell_type": "code",
   "execution_count": null,
   "metadata": {},
   "outputs": [],
   "source": []
  }
 ],
 "metadata": {
  "kernelspec": {
   "display_name": "Python 3",
   "language": "python",
   "name": "python3"
  },
  "language_info": {
   "codemirror_mode": {
    "name": "ipython",
    "version": 3
   },
   "file_extension": ".py",
   "mimetype": "text/x-python",
   "name": "python",
   "nbconvert_exporter": "python",
   "pygments_lexer": "ipython3",
   "version": "3.6.1"
  }
 },
 "nbformat": 4,
 "nbformat_minor": 2
}
