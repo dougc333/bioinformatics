{
 "cells": [
  {
   "cell_type": "code",
   "execution_count": null,
   "metadata": {},
   "outputs": [],
   "source": [
    "<h6>Cloning and PCR Brown</h6>\n",
    "Gene cloning where a piece of DNA is inserted into the vector called a recombinant DNA molecule. This vector + \n",
    "DNA is a recombinant DNA molecule before insrtion intothe bacterium. Teh recombinant DNA dividies within the \n",
    "bacterium and the bacterium divides also. There are 2 places of replicaiton, inside the bacterium and the \n",
    "division of the bacterium. \n",
    "<img src=\"b1.png\">\n",
    "Steps to PCR\n",
    "<li>Denature double strand to create 2 single strands 94 degrees C. This breaks the H bonds in the double strand</li>\n",
    "<li>Anneal primers to end of DNA temlate by cooling 50-60. Primers at the end of the single strands prevent\n",
    "the single strnds from attaching back together. Primers are where the DNA polymerase starts replication for the single \n",
    "strands to do the read. Adapter sequences can be added for multiplixing. </li>\n",
    "<li>SYnthesize w/additon of DNA polymerase by heating back to 74 C</li>\n",
    "<li>synthesize from 3 to 5</li>\n",
    "<li>Heat back up to 94C to denature again ane repeat process</li>\n",
    "<img src=\"b2.png\">\n",
    "<h6>Both methods, cloning and PCR allows us to select a particular gene from a pool of many DNA strands which \n",
    "have been replicated either in a host cell or in a test tube via PCR reactions. Advantage: PCR is faster then gene\n",
    "cloning. Disadvantages: PCR requires primers to anneal to correct positions, on both sides of gene. In class was\n",
    "    mentioned we can get a cut in the middle of a gene. PCR doesnt work for denovo genes, where we dont know\n",
    "    the sequence. For gene isolation in PCR we need to anneal primers to both ends of the gene sequence. For denovo \n",
    "    genes we need cloning. PCR has limit oto 40kb. Longer genes require cloning</h6>\n",
    "<img src=\"b3.png\">\n",
    "<img src=\"b4.png\">\n",
    "<img src=\"b5.png\">\n",
    "<img src=\"b6.png\">\n"
   ]
  },
  {
   "cell_type": "code",
   "execution_count": null,
   "metadata": {},
   "outputs": [],
   "source": []
  }
 ],
 "metadata": {
  "kernelspec": {
   "display_name": "Python 3",
   "language": "python",
   "name": "python3"
  },
  "language_info": {
   "codemirror_mode": {
    "name": "ipython",
    "version": 3
   },
   "file_extension": ".py",
   "mimetype": "text/x-python",
   "name": "python",
   "nbconvert_exporter": "python",
   "pygments_lexer": "ipython3",
   "version": "3.6.1"
  }
 },
 "nbformat": 4,
 "nbformat_minor": 2
}
