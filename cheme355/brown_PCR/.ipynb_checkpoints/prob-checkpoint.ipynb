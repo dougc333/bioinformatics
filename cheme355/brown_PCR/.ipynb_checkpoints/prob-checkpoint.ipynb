{
 "cells": [
  {
   "cell_type": "markdown",
   "metadata": {},
   "source": [
    "<h6>Prob review</h6>\n",
    "Binomial Distribtion, yes/no distributions\n",
    "<img src=\"p1.png\">\n",
    "<img src=\"p2.png\">\n",
    "<img src=\"p3.png\">\n",
    "<img src=\"p4.png\">\n",
    "<img src=\"p5.png\">\n"
   ]
  },
  {
   "cell_type": "code",
   "execution_count": null,
   "metadata": {},
   "outputs": [],
   "source": [
    "#given a set of 5000 cells, if you randomly pick one, how many random picks do you need to get 99% of all 5000?\n",
    "import random\n",
    "\n",
    "dict={}\n",
    "N=10000\n",
    "\n",
    "for x in range(0,5000):\n",
    "    "
   ]
  }
 ],
 "metadata": {
  "kernelspec": {
   "display_name": "Python 3",
   "language": "python",
   "name": "python3"
  },
  "language_info": {
   "codemirror_mode": {
    "name": "ipython",
    "version": 3
   },
   "file_extension": ".py",
   "mimetype": "text/x-python",
   "name": "python",
   "nbconvert_exporter": "python",
   "pygments_lexer": "ipython3",
   "version": "3.6.1"
  }
 },
 "nbformat": 4,
 "nbformat_minor": 2
}
