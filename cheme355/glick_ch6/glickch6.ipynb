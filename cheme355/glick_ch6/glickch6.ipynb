{
 "cells": [
  {
   "cell_type": "markdown",
   "metadata": {},
   "source": [
    "<h6>Glick Ch6 c6 195-205, 222-228</h6>\n",
    "Plasmid imposed a metabolic load on host cell. Some host cells expel plasmids. The non plasmid infected cells will\n",
    "grow faster so eventually the cell culture will be dominated by non plasmid containing cells. \n",
    "<li>1) for a DNA insert into CHROMOSOMAL site , first needs to be sequence overlap of 50 nt between the insert\n",
    "and the chromosoal DNA. Identiy site</li>\n",
    "<li>2) isolate and clone part or all of chromosomal site</li>\n",
    "<li>3) ligate a cloned gene and regulatable promoter into 6.25a or adjacent to 6.25b </li>\n",
    "<li>4) transfer the DNA to a host cell as part of a plasmid that cannot replicate in a host cell</li>\n",
    "<li>5) seldct and perpetuate cell which express cloned gene. </li>\n",
    "There are 2 different cases in above, bottom is hoologous combination. \n",
    "<img src=t1.png>\n",
    "<img src=t2.png>\n",
    "<img src=t3.png>\n",
    "<img src=t4.png>\n",
    "<img src=t5.png>\n",
    "<img src=t6.png>\n",
    "<img src=t7.png>\n",
    "\n",
    "<img src=s1.png>\n",
    "<img src=s2.png>\n",
    "<img src=s3.png>\n",
    "<img src=s4.png>\n",
    "<img src=s5.png>\n",
    "<img src=s6.png>\n",
    "<img src=s7.png>\n",
    "<img src=s8.png>\n",
    "<img src=s9.png>\n",
    "<img src=s10.png>\n",
    "<img src=s11.png>\n",
    "<img src=s12.png>\n",
    "<img src=s13.png>\n",
    "<img src=s14.png>\n"
   ]
  },
  {
   "cell_type": "code",
   "execution_count": null,
   "metadata": {},
   "outputs": [],
   "source": []
  }
 ],
 "metadata": {
  "kernelspec": {
   "display_name": "Python 3",
   "language": "python",
   "name": "python3"
  },
  "language_info": {
   "codemirror_mode": {
    "name": "ipython",
    "version": 3
   },
   "file_extension": ".py",
   "mimetype": "text/x-python",
   "name": "python",
   "nbconvert_exporter": "python",
   "pygments_lexer": "ipython3",
   "version": "3.6.1"
  }
 },
 "nbformat": 4,
 "nbformat_minor": 2
}
