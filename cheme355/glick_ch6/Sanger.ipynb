{
 "cells": [
  {
   "cell_type": "markdown",
   "metadata": {},
   "source": [
    "#https://www.youtube.com/watch?v=pfl2tBB1bYA&t=651s\n",
    " This is the cheapest currently deployed long read solution out there pre oxford nanopore adoption. You separate\n",
    "    the DNA using sonication and put dsDNA fragments into each test tube. Note: there is no library prep where in \n",
    "        contrast to illumina which denatures, separates, adds adapters to single stranded DNA. \n",
    "Chain termination method. 4 test tubes containing DNA for PCR and you put in a separate dNTP into each one. \n",
    "First step in PCR is to denature w/heat. The PCR primers+DNA polymerase(TAQ) are added to the 4 test tubes. When\n",
    "denatured into single strands, add the PCR primers which are needed bc TAQ polymerase can only work with an existing\n",
    "DNA sequence. \n",
    "<img src=\"sa1.png\">\n",
    "<img src=\"sa1a.png\">\n",
    "Add a PCR tag(pink) so TAQ can extend in 3 direction. primers are on 5 end. \n",
    "<img src=\"sa2.png\">\n",
    "Another PCR primer image from Khan. \n",
    "<img src=\"sa3.png\">\n",
    "<img src=\"sa3a.png\">\n",
    "Modify to use a dideoxynucleotide. Take off an OH from the 3rd Carbon and replace w/H. The sugar is modified\n",
    "from a 2-deoxyribose to 2,3 dideoxyribose. Replacing w/H is not good for the DNA polymerase bc how does it now\n",
    "attach NTs to the 3 C if the OH is no longer there? \n",
    "<img src=\"sa4.png\">\n",
    "<img src=\"sa4a.png\">\n",
    "\n",
    "<img src=\"sa5.png\">\n",
    "<img src=\"sa6.png\">\n",
    "The tubes contain ddNTP AND NTP so you see a distriution of DNA fragments all of which end in C. Whenever there\n",
    "is a C binding you have a probability of binding with a dNTP(normal) or ddNTP(stop)\n",
    "<img src=\"sa7.png\">\n",
    "You read by size, complement. Size smallest first is CTACG which is what is added after the primer! So you can \n",
    "figure out the sequence is GATGC. \n",
    "<img src=\"sa8.png\">\n",
    "\n"
   ]
  },
  {
   "cell_type": "markdown",
   "metadata": {},
   "source": []
  }
 ],
 "metadata": {
  "kernelspec": {
   "display_name": "Python 3",
   "language": "python",
   "name": "python3"
  },
  "language_info": {
   "codemirror_mode": {
    "name": "ipython",
    "version": 3
   },
   "file_extension": ".py",
   "mimetype": "text/x-python",
   "name": "python",
   "nbconvert_exporter": "python",
   "pygments_lexer": "ipython3",
   "version": "3.6.1"
  }
 },
 "nbformat": 4,
 "nbformat_minor": 2
}
