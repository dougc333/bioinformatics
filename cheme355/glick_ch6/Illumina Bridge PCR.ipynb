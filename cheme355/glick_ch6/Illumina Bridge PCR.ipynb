{
 "cells": [
  {
   "cell_type": "markdown",
   "metadata": {},
   "source": [
    "Library prep fragment to shorter segments. Through reduced cycle amplification add additional motifs to the \n",
    "library strands. \n",
    "1) Attach adapters for multiplexing\n",
    "2) Attach oligo complimentary for binding to flow cell\n",
    "3) Attach\n",
    "\n",
    "<li>Clustering is where each sample or library strand is PCR bridge amplified on the flow cell. </li>\n",
    "<li>there are 2 types of oligos on the flow cell. Both oligos are complimentary to the oligos on the\n",
    "library strands. Attach the single stranded library prep strands to the flow cell. A polymerase creates\n",
    "a compliment of the attached fragment. </li>\n",
    "<li></li>\n",
    "<li></li>\n",
    "<li></li>\n",
    "<li></li>\n",
    "<img src=\"lib1.png\">\n",
    "<img src=\"lib2.png\">\n",
    "<img src=\"lib3.png\">\n"
   ]
  },
  {
   "cell_type": "code",
   "execution_count": null,
   "metadata": {},
   "outputs": [],
   "source": [
    "<img src=\"lib1.png\">\n"
   ]
  }
 ],
 "metadata": {
  "kernelspec": {
   "display_name": "Python 3",
   "language": "python",
   "name": "python3"
  },
  "language_info": {
   "codemirror_mode": {
    "name": "ipython",
    "version": 3
   },
   "file_extension": ".py",
   "mimetype": "text/x-python",
   "name": "python",
   "nbconvert_exporter": "python",
   "pygments_lexer": "ipython3",
   "version": "3.6.1"
  }
 },
 "nbformat": 4,
 "nbformat_minor": 2
}
