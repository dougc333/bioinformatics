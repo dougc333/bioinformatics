{
 "cells": [
  {
   "cell_type": "markdown",
   "metadata": {},
   "source": [
    "#https://www.youtube.com/watch?v=4YKFw2KZA5o\n",
    "<li>2 parts to CRISPR, a DNA cutting protein, CAS9 and a RNA molecule, sgRNA. CAS9 binds to DNA w/PAM(NGG,palindrome).\n",
    "Once bound sgRNA unwinds part of the double helix. The sgRNA is designed to bind to a particular sequence in DNA. Once\n",
    "bound CAS9 cuts the DNA. Cell will try to repair the dsBreak. IF the break is fixed usually there are errors so the \n",
    "gene is disabled. We can use this to knockout genes w/crispr. Design the sgRNA(example). CAS9 can be used to transport\n",
    "enzyme deanimase to mutate a single NTm C->T. Can introduce stop codon in specific place in DNA. CAS9 transcription, deactivate\n",
    "the cutting part. Can increase transcription rates/GENE. Can add factors to block gene from function. Can add flourescent\n",
    "markers to the CAS9 complex as it binds to the DNA. \n",
    "</li>\n",
    "<li></li>\n",
    "<li></li>\n",
    "<li></li>\n",
    "<li></li>\n",
    "<li></li>\n",
    "<li></li>\n",
    "<li></li>\n",
    "Evolved by bacteria as self defense mechanism. cas1/cas2 identifies the \n",
    "invading DNA and cuts it out. This cutout is called the protospacer. The Protospacer is inserted\n",
    "into the front of the DNA sequence which stores the repeated viral sequences. The DNA from invading phages is stored in between spacers.\n",
    "<img src=\"crispr1.png\">\n",
    "The bacteria creates a crRNA from the sequence of stored DNA. tracer-RNA links up w/crRNA through base pairing. \n",
    "\n",
    "<img src=\"crispr2.png\">\n",
    "crsprRNA+tracerRNA matches DNA, CAS9 cuts the DNA. \n",
    "<img src=\"crispr3.png\">\n",
    "how does CAS9 know to cut the gDNA in the bacterium where the phage inserted vs. in the protospacer? It looks \n",
    "for PAM in the gDNA. PAM sequences speeds up search. cas9 only searches gDNA where there is PAM sequence to speed\n",
    "up search. \n",
    "<img src=\"crispr4.png\">\n",
    "cas9 works with cas1 and cas2 to remove the PAM spacer when cutting from gDNA and inserting into protospacer. \n",
    "<img src=\"crispr5.png\">\n",
    "Other PAMS. \n",
    "Crispr consists of 2 parts the CAS9 endonuclease and the sgRNA. Design the sgRNA sequence. 20bp to match the \n",
    "target sequence+ sgRNA. the target sequence matches the area between the PAMS, do you include the PAMS? Prob not.\n",
    "\n",
    "<img src=\"c2a.png\">\n",
    "<img src=\"c2ba.png\">\n",
    "<img src=\"c2b.png\">\n",
    "<img src=\"c2b1.png\">\n"
   ]
  },
  {
   "cell_type": "code",
   "execution_count": null,
   "metadata": {},
   "outputs": [],
   "source": [
    "<h6>CRISPR gRNA design</h6>\n",
    "#https://www.youtube.com/watch?v=dXPDefej0Ps\n",
    "   "
   ]
  }
 ],
 "metadata": {
  "kernelspec": {
   "display_name": "Python 3",
   "language": "python",
   "name": "python3"
  },
  "language_info": {
   "codemirror_mode": {
    "name": "ipython",
    "version": 3
   },
   "file_extension": ".py",
   "mimetype": "text/x-python",
   "name": "python",
   "nbconvert_exporter": "python",
   "pygments_lexer": "ipython3",
   "version": "3.6.1"
  }
 },
 "nbformat": 4,
 "nbformat_minor": 2
}
