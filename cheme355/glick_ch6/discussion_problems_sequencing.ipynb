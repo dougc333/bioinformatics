{
 "cells": [
  {
   "cell_type": "markdown",
   "metadata": {},
   "source": [
    "<img src=\"r1.png\">\n",
    "$436 peptides * \\frac{3nt}{aa} + \\frac{3nt}{stop codon}=1281$\n",
    "<img src=\"r2.png\">\n",
    "\n",
    "<img src=\"r3.png\">\n"
   ]
  },
  {
   "cell_type": "markdown",
   "metadata": {},
   "source": [
    "<img src=\"roche1.png\">\n",
    "First example is Roche454 where emulsion droplets doing PCR in the drops and put these onto slides. What are we\n",
    "doing w/emulsion droplets? Why not use beads? What is point of emulsion droplets? Can put different droplets in differetn\n",
    "wells allows to have 1 piece of DNA in 1 droplet. Have to do math beforehand. Doing compartementalization in wells. \n",
    "Want only 1 DNA sequenceon bead. ONslide only shows red primer on bead. Whatabout blue primer? HOw are you getting good\n",
    "amplificaiton if only red primer is on bead? Contrast with bridge amplification both primers attached to surface of flow cell. \n",
    "The other primer is free in solution(blue in solution). Both Roche and Illumina doiong PCR. Roche amplifies in wells. The speedd\n",
    "of the emulsion polymerase is the time scale.. Add each nucleotide one at a time with Roche. You either get a signal or not a signal.\n",
    "\n",
    "ADD MORE MATERIAL ON ROCHE/SANGER\n",
    "Illumina has blue and red. How do you make sure you only get 1 direction at same time? How you get 2 DNA sequence to 1. \n",
    "You can cleave at one of primers to wash away. Use Restriction enzyme to cut on red primers which washes away the \n",
    "backwards strands. PacBIO: have polymerase adding 1 base at time. Can get good S/N ratio and can read only 1 polymerase\n",
    "    at a time. Use poisson distribution to show 1 bead per 1 well. \n",
    "<p>Illumina: add one flourescent BP at a time. REad w camera. Cleave away flourescent oligonucleotide and attach\n",
    "    a nonflourecscent then go to next BP. </p>\n",
    "<p>Roche: each different??? Not clear. pyrosequencing approach. Adding nucleotide one at a time and\n",
    "    see flourescent. </p>\n",
    "<img src=\"roche2.png\">\n",
    "<img src=\"roche3.png\">\n",
    "<p>Illumina, sequencing by synthesis: the bridge PCR creates the clustering which is resistante to single nucleotide read errors. </p>\n",
    "<p>454, sequencing by pyrosequencing: 454 DNA sequencing only for larger genome. 1) denature and fragment into single\n",
    "    strands, use mechanical shearing bc you want longer reads. Ligation of 2 adapters. Attach the ligated AdapterA---DNA---AdapterB.\n",
    "    Attach these to a bead. The bead has teh complement of AdapterA/B which will attach to the DNA. Amplify the DNA attached\n",
    "    attached the bead. Each well contains 1 bead. Add nucleotide sequences to single strand everytime a NT is added to the bead attached DNA we get a flourescent\n",
    "    color. unclear if you do one NT at a time or all T attaches to all As and you read that way. Called pyrosequencing bc\n",
    "    when NT is attaching PPP-NT, PP is cleaved off. </p>\n",
    "<p>454 pyrosequencing uses ATP enzymes sulfurylase and luciferase. A pyrophosophate is released after each NT incorporation\n",
    "during emulsion PCR. Teh amount of lighet is proportional to the number of NT attached. PCR starts with the blue adapters\n",
    "first allowing the camera to be calibrated. Amplification of template strand to generate enough light for detection. Problem\n",
    "is consectuive NT, AAA is hard. </p>\n",
    "<li>Why PCR in Illumina and 454 systems? Increase S/N</li>\n",
    "<li>what 2 strategies to syncronize teh polymerases? Refers to? Illumina; modified nt which only stops after\n",
    "1nt addition. Has a flourscent marker with it. Illumina: reverse chain termination. Roche: Phosphate release</li>\n",
    "<li>read length limited by illumina flow cells limited number of cycles before adapters degrade; ones which\n",
    "attach strands to flow cell; cheaper cost for less cycles for reageants. Small probability of error but\n",
    "smaller length limits errors per read. </li>\n",
    "<li></li>\n",
    "<li></li>\n",
    "\n",
    "<img src=\"roche4.png\">\n",
    "Pacbio. Polymerase replicates and see what at bottom of well. Can only have 1 polymerase/strand per well. Else you \n",
    "cant read it. All wells full with some solution. 1 polymerase per cell.. \n",
    "<img src=\"roche5.png\">\n",
    "<img src=\"roche6.png\">\n",
    "<img src=\"roche7.png\">\n",
    "Solid phase chemical synthesis molecules are bound on a bead and synthesized step by step. \n",
    "\n",
    "SOlid phase DNA synthesis: Is called oligonucleotide synthesis. Good for short sequences. Not limited to 5-3 direction\n",
    ". Usually opposite in 3 to 5 direction.  Currently, the process is implemented as solid-phase synthesis using \n",
    "phosphoramidite method and phosphoramidite building blocks derived from protected \n",
    "2'-deoxynucleosides (dA, dC, dG, and T), ribonucleosides (A, C, G, and U), \n",
    "or chemically modified nucleosides, e.g. LNA or BNA.\n",
    "\n",
    "\n",
    "Solid phase peptide synthesis:\n",
    "<img src=\"roche8.png\">\n",
    "a) 4 cycles with 4 steps in each cycle. \n",
    "b) "
   ]
  },
  {
   "cell_type": "code",
   "execution_count": null,
   "metadata": {},
   "outputs": [],
   "source": [
    "https://www.youtube.com/watch?v=pfl2tBB1bYA\n"
   ]
  }
 ],
 "metadata": {
  "kernelspec": {
   "display_name": "Python 3",
   "language": "python",
   "name": "python3"
  },
  "language_info": {
   "codemirror_mode": {
    "name": "ipython",
    "version": 3
   },
   "file_extension": ".py",
   "mimetype": "text/x-python",
   "name": "python",
   "nbconvert_exporter": "python",
   "pygments_lexer": "ipython3",
   "version": "3.6.1"
  }
 },
 "nbformat": 4,
 "nbformat_minor": 2
}
