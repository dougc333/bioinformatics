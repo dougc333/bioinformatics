{
 "cells": [
  {
   "cell_type": "markdown",
   "metadata": {},
   "source": [
    "#https://blog.addgene.org/crispr-101-homology-directed-repair\n",
    "#http://earth.callutheran.edu/Academic_Programs/Departments/BioDev/omm/reca/recamast.htm\n",
    "https://www.youtube.com/watch?v=cokhflzjTkA\n",
    "    \n",
    "<h6>Holliday model </h6>\n",
    "Need nicks in BOTH chromosomes. \n",
    "First get nick in DNA by ionizing radiation or using crispr/CAS9 to form double strand break in DNA. \n",
    "This process also is similar when you get a DSB. 2 mechanisms for DSB repair which is different than nicks\n",
    "Homologous recombination or NHEJ, non homologous end joining for eukaryotic cells. \n",
    "The Holliday model is simplified block diagram model of how we can think of what occurs. \n",
    "The nicks have to occur on the same place and the sequences around the nicks are the same. \n",
    "<img src=\"homo1.png\">\n",
    "The nick allows one ssDNA to invade/displace the dsDNA branch of the other strand. The displaced strand\n",
    "hybridizes with the other ssDNA. The regions of DNA involved in these heterodubpexes is a holliday junction and rexolved\n",
    "by resolvase RuvC in E.COli and ligase to create recombinant chromosomes in 50% of the chromosomes. \n",
    " \n",
    "<img src=\"homo2.png\">\n",
    "The x or crossing is the holliday junction\n",
    "There can be base pair mismatches. \n",
    "<img src=\"homo3.png\">\n",
    "You get a twist\n",
    "<img src=\"homo4.png\">\n",
    "which is resolved by cutting w/endonucleases\n",
    "<img src=\"homo5.png\">\n",
    "<img src=\"homo6.png\">\n",
    "<h6>Meselson-Radding model of homologous recombination </h6>\n",
    "This is different than the Holliday model in needing a break in 1 chromosome/dsDNA.\n",
    "Start with a single strand nick and the the help of RecA protein you catalyze\n",
    "strand displacement. \n",
    "<img src=\"mr1.png\">\n",
    "RecA catalyzes the pairing of ssDNA with the dsDNA. You get synthesis of the 3' section and overhang w 5' section. \n",
    "\n",
    "<img src=\"reca.png\">\n",
    "This overhang can now invade another section and you get a D loop in the DNA. \n",
    "<img src=\"mr2.png\">\n",
    "<img src=\"mr3.png\">\n",
    "<h6>DS break model found in yeast plasmid</h6>\n",
    "A dsDNA break in 1 chromosome will initiate a recombination event. 2 steps after a dsDNA break.\n",
    "1) DSB 3-prime layer overhangs/sticky ends created. These 2 3prime ends do NOT overlap\n",
    "2) strand invasion and formation of D loop. DNA polymerase extends one of teh 3-prime ends as seen in the pink\n",
    "extension using the non-D loop strand as template for synthesis. (this creates the homologous sections we have to \n",
    "do manually. )\n",
    "<img src=\"yeast1.png\">\n",
    "Capture of the second end. The other 3-prime end pairs up with the top part of the D loop. \n",
    "2 holliday junctions which need to be repaired\n",
    "<img src=\"yeast2.png\">\n",
    "<img src=\"yeast3.png\">\n",
    "\n"
   ]
  },
  {
   "cell_type": "code",
   "execution_count": null,
   "metadata": {},
   "outputs": [],
   "source": []
  }
 ],
 "metadata": {
  "kernelspec": {
   "display_name": "Python 3",
   "language": "python",
   "name": "python3"
  },
  "language_info": {
   "codemirror_mode": {
    "name": "ipython",
    "version": 3
   },
   "file_extension": ".py",
   "mimetype": "text/x-python",
   "name": "python",
   "nbconvert_exporter": "python",
   "pygments_lexer": "ipython3",
   "version": "3.6.1"
  }
 },
 "nbformat": 4,
 "nbformat_minor": 2
}
