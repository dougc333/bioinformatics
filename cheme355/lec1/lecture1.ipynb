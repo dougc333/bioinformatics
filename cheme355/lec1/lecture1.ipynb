{
 "cells": [
  {
   "cell_type": "markdown",
   "metadata": {},
   "source": [
    "<h6>what need to make xanthan in Ecoli?</h6>\n",
    "In nature you have bacteria which takes in glucose and outputs xanthan\n",
    "change this to take in lactose output xanthan\n",
    "<img src=\"lec1.png\">\n",
    "We need\n",
    "<li>1) enzyme to convert lactose (sugar dimer) to individual companents, glusocse. ecoli has genes to do this.\n",
    "enzyme lacz can break up lactose to glucose, there is gene in ecoli which does this. </li>\n",
    "<li>2) protein for importing lacose, ecoli membrane allows you take in lactose, there is another piece of DNA allowing\n",
    "this</li>\n",
    "<li>3) source of genes for 1 and 2. </li> Cant just stick in genes into an organism and expect them to work. Need\n",
    "something to transcribe them. You use a PXc or promoter to start the mRNA transcription that you borrow from another\n",
    "organism, a virus, a Xanthamanos phage.\n",
    "<li>4) something to turn on the gene. (add promoter region to DNA)</li>\n",
    "<li>5) way to make/confirm piece of DNA</li>\n",
    "<li>6) get DNA into Xc cell</li>\n",
    "<li>7) test you get 4g/liter of Xanthan for 5g/L of lactose</li>\n",
    "<img src=\"lec2.png\">\n",
    "By dry weight composition of cell, Hydrodgen, Carbon, Phosphoros, Oxygen, Nitrogen. 5 components. Combustion analysis\n",
    "example. Also find trace elements, not everything in periodic table. This is a simple parts list. \n",
    "<img src=\"lec3.png\">\n",
    "4 main biopolymers to make cells, 1) proteins, 20 AA where an AA is connected via peptide bond to make protein polymers\n",
    "2) Nucleic acids, nucleotides connected w H bonds and diphosphorbond. 3) carbohydrates/polysaccharide, 4) Fatty acids/lipids\n",
    "there are 500 AA but only 20 make proteins. makes sense protein polymer made of amide bonds. \n",
    "hat if they were built on esters and they could hydrolize easily. want to the protein polymers \n",
    "to be difficult to breakdown in contrast to biopolymers nucleic acids.  \n",
    "proteins used for catalysis, structure (algen),transport. \n",
    "<img src=\"lec4.png\">\n",
    "Nucleic acids: high energy, store energy. They add potential energy to molecules when they bind. in contrast to protein polymers\n",
    "these are easier to break down. \n",
    "<img src=\"lec5.png\">\n",
    "Cpompare t proteins no amide link, phosphate, Function of nucleic acids: to store info, functionl rnas in ribosomes. \n",
    "    teh phosphaote bonds are high energy made to be broken in contrast to proteins. Nucleotides also store energy and move \n",
    "    energy around a cell. \n",
    "\n",
    "starting point is a udp sugar... which in end is how you get xanthan gum. one of the nucleotides activates glucose so it\n",
    "has a lot of potential energy and can be polymerized using gloycosicol transferase to kame on of these carbohydrates. \n",
    "what are carbohydrates used for in cell? energy storae. store carbon. use for structure, xanthan gum is sturcture of biofilm in cell.\n",
    "\n",
    "<img src=\"lec6.png\">\n",
    "fatty acid/lipids. hard to stick carbons together on a bench but cell can do this. FA used for compartmentalization for cell \n",
    "structures, cell walls, etc...CoenzymeA is an activated carrier. same as with all teh biopolymers. UDP is the activated carrier for carbohydrate\n",
    "or a shortened nucleotide, uridine diphosphate. \n",
    "<img src=\"lec7.png\">\n"
   ]
  },
  {
   "cell_type": "markdown",
   "metadata": {},
   "source": []
  }
 ],
 "metadata": {
  "kernelspec": {
   "display_name": "Python 3",
   "language": "python",
   "name": "python3"
  },
  "language_info": {
   "codemirror_mode": {
    "name": "ipython",
    "version": 3
   },
   "file_extension": ".py",
   "mimetype": "text/x-python",
   "name": "python",
   "nbconvert_exporter": "python",
   "pygments_lexer": "ipython3",
   "version": "3.6.1"
  }
 },
 "nbformat": 4,
 "nbformat_minor": 2
}
