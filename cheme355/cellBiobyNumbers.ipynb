{
 "cells": [
  {
   "cell_type": "markdown",
   "metadata": {},
   "source": [
    "<h6>Cell p76-87</h6>\n",
    "Size of biochemical units:\n",
    "<img src=\"s1.png\">\n",
    "\n"
   ]
  },
  {
   "cell_type": "markdown",
   "metadata": {},
   "source": [
    "<h6>How many ribosomes in Cell?</h6>"
   ]
  },
  {
   "cell_type": "markdown",
   "metadata": {},
   "source": [
    "<h6>p3xx-3xx</h6>\n",
    "Photo of RNA transcription and translation. From DNA->mRNA->protein.\n",
    "<img src= 'rna1.png'>\n",
    "<p>Transcription: DNA->mRNA w/RNA polymerase</p>\n",
    "<p>Translation:mRNA->proteins w/Ribosomes</p>\n",
    "How doRNA transcrxiption vs. RNA translation rate compare?. \n",
    "They are the same! One reaction does not deplete the other. \n",
    "<img src= 'rna2.png'>\n",
    "<p>mRNA: messenger RNA</p>\n",
    "<p>rRNA:</p>\n",
    "<p>tRNA:</p>\n",
    "<p>RNA:</p>\n",
    "<p>\n",
    "In EColi: transcription of mRNA/stable rRNA/tRNA is 1k-10k RNA polymerase at 40/80 nt/sec. \n",
    "Translation of proteins in 10k-100k ribosomes @max of 20nt aa/sec. \n",
    "</p>"
   ]
  },
  {
   "cell_type": "code",
   "execution_count": null,
   "metadata": {},
   "outputs": [],
   "source": []
  }
 ],
 "metadata": {
  "kernelspec": {
   "display_name": "Python 3",
   "language": "python",
   "name": "python3"
  },
  "language_info": {
   "codemirror_mode": {
    "name": "ipython",
    "version": 3
   },
   "file_extension": ".py",
   "mimetype": "text/x-python",
   "name": "python",
   "nbconvert_exporter": "python",
   "pygments_lexer": "ipython3",
   "version": "3.6.1"
  }
 },
 "nbformat": 4,
 "nbformat_minor": 2
}
