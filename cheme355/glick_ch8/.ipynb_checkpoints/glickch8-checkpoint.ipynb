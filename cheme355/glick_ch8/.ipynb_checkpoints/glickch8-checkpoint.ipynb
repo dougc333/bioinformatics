{
 "cells": [
  {
   "cell_type": "code",
   "execution_count": null,
   "metadata": {},
   "outputs": [],
   "source": [
    "<h6>Glick ch8 290-305</h6>\n",
    "Can alter the Kmax of \n"
   ]
  },
  {
   "cell_type": "code",
   "execution_count": null,
   "metadata": {},
   "outputs": [],
   "source": [
    "<h6>Different mechanisms to introduce random mutations in DNA</h6>\n",
    "<h6>Site directed mutagensis</h6>\n",
    "One of the most important lab techiques! \n",
    "Use PCR to generate random mutations. problem: only good for 1/2 mutations/1k nt. \n",
    "Ogliotide direected mutagenesis with M13 DNA. Use bacteriophage w/M13 to site mutate DNA. \n",
    "<img src=\"e1.png\">\n",
    "<img src=\"e2.png\">\n",
    "<img src=\"e3.png\">\n",
    "<img src=\"e4.png\">\n",
    "<img src=\"e5.png\">\n",
    "<img src=\"e6.png\">\n",
    "<img src=\"e7.png\">\n",
    "<img src=\"e8.png\">\n",
    "<img src=\"e9.png\">\n",
    "<img src=\"e10.png\">\n",
    "<img src=\"e11.png\">\n",
    "<img src=\"e12.png\">\n",
    "<img src=\"e13.png\">\n",
    "<img src=\"e14.png\">\n",
    "<img src=\"e15.png\">\n"
   ]
  },
  {
   "cell_type": "code",
   "execution_count": null,
   "metadata": {},
   "outputs": [],
   "source": []
  }
 ],
 "metadata": {
  "kernelspec": {
   "display_name": "Python 3",
   "language": "python",
   "name": "python3"
  },
  "language_info": {
   "codemirror_mode": {
    "name": "ipython",
    "version": 3
   },
   "file_extension": ".py",
   "mimetype": "text/x-python",
   "name": "python",
   "nbconvert_exporter": "python",
   "pygments_lexer": "ipython3",
   "version": "3.6.1"
  }
 },
 "nbformat": 4,
 "nbformat_minor": 2
}
