{
 "cells": [
  {
   "cell_type": "markdown",
   "metadata": {},
   "source": [
    "<h6>Genomic Annotation phage and 2 yeast system not clear</h6>\n",
    "\n",
    "<img src=\"b1.png\">\n",
    "<img src=\"b2.png\">\n",
    "<img src=\"b3.png\">\n",
    "bbbb\n",
    "<img src=\"b4.png\">\n",
    "<img src=\"b5.png\">\n",
    "<img src=\"b6.png\">\n",
    "<img src=\"b7.png\">\n",
    "asf\n",
    "<img src=\"b8.png\">\n",
    "<img src=\"b9.png\">\n",
    "<img src=\"b10.png\">\n",
    "aaaa\n",
    "<img src=\"b11.png\">\n",
    "<img src=\"b12.png\">\n",
    "<img src=\"b13.png\">\n",
    "<img src=\"b14.png\">\n",
    "<img src=\"b15.png\">\n",
    "<h6>Protein Proteim</h6>\n",
    "Protemics is identificatoin of proteins, rate of synthesis and degradation. 2 techniques; protein electrophoresis and \n",
    "mass spec. Mammal cell contains 10-20k proteins. Use polyacrylimide gell electrophoresis to separate proteins. Detergent\n",
    "sodium dodecyl sulphate to denature proteins and adds negative charge which is roughly equivalent to a single polypeptide.\n",
    "The movement in the gel separates the protein denatured proteins by size. Also isoelectric focusing where you separate\n",
    "proteins based on charge in gel. The image shows protein profiling where both methods are used. First isoelectric \n",
    "focusing followed by rotating 90 degrees and soaking in detergent and separating based on size. The gel is then stained\n",
    "and you can see intensities based on type and concentration. This process is called 2d electrophos. \n",
    "<img src=\"b15a.png\">\n",
    "Peptide mass fingerprinting takes protein fragments and separates/reads spectral lines to identify type. The problem\n",
    "is most proteins are too large for mass spec. Use matrixassisted laser desorption ionization time-of-flight(MALDI-TOF)\n",
    " which is good for proteins up to 50 peptide long chains. One approach is to cleave proteins using trypsin which \n",
    "    cleaves on Arginine and Lysine boundaries. This gives fragments 5-75 peptides long. MALDI-TOF ionizes the short\n",
    "    protein fragments and uses difference in time of flight to calculate differences between charge/mass. \n",
    "<img src=\"b16.png\">\n",
    "2d electrophoresis can show differences in protein concentrations by looking at stained gels. \n",
    "For more accurate readings, ICAT tags proteins with isotopes, see difference with deuterioum labeled samples. \n",
    "<img src=\"b17.png\">\n",
    "2 techniques for examining protein protein interaction. Phage display and yeast 2 hybrid system. Phage display displays\n",
    "the proteins on the surface of a M13 bacteriophage. Ecoli is transfected with the bacteriophage and \n",
    "<img src=\"b18.png\">\n",
    "<img src=\"b19.png\">\n",
    "2 yeast system\n",
    "<img src=\"b20.png\">\n",
    "<img src=\"b21.png\">\n",
    "<img src=\"b22.png\">\n"
   ]
  },
  {
   "cell_type": "markdown",
   "metadata": {},
   "source": []
  }
 ],
 "metadata": {
  "kernelspec": {
   "display_name": "Python 3",
   "language": "python",
   "name": "python3"
  },
  "language_info": {
   "codemirror_mode": {
    "name": "ipython",
    "version": 3
   },
   "file_extension": ".py",
   "mimetype": "text/x-python",
   "name": "python",
   "nbconvert_exporter": "python",
   "pygments_lexer": "ipython3",
   "version": "3.6.5"
  }
 },
 "nbformat": 4,
 "nbformat_minor": 2
}
