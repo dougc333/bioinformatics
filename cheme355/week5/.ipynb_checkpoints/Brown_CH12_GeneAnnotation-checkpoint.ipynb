{
 "cells": [
  {
   "cell_type": "code",
   "execution_count": null,
   "metadata": {},
   "outputs": [],
   "source": [
    "<h6>Genomic Annotation</h6>\n",
    "\n",
    "<img src=\"b1.png\">\n",
    "<img src=\"b2.png\">\n",
    "<img src=\"b3.png\">\n",
    "bbbb\n",
    "<img src=\"b4.png\">\n",
    "<img src=\"b5.png\">\n",
    "<img src=\"b6.png\">\n",
    "<img src=\"b7.png\">\n",
    "asf\n",
    "<img src=\"b8.png\">\n",
    "<img src=\"b9.png\">\n",
    "<img src=\"b10.png\">\n",
    "aaaa\n",
    "<img src=\"b11.png\">\n",
    "<img src=\"b12.png\">\n",
    "<img src=\"b13.png\">\n",
    "<img src=\"b14.png\">\n",
    "<img src=\"b15.png\">\n",
    "<h6>Protein Proteim</h6>\n",
    "Protemics is identificatoin of proteins, rate of synthesis and degradation. 2 techniques; protein electrophoresis and \n",
    "mass spec. Mammal cell contains 10-20k proteins. Use polyacrylimide gell electrophoresis to separate proteins. Detergent\n",
    "sodium dodecyl sulphate to denature proteins and adds negative charge which is roughly equivalent to a single polypeptide.\n",
    "The movement in the gel separates the protein denatured proteins by size. Also isoelectric focusing where you separate\n",
    "proteins based on charge in gel. The image shows protein profiling where both methods are used. First isoelectric \n",
    "focusing followed by rotating 90 degrees and soaking in detergent and separating based on size. The gel is then stained\n",
    "and you can see intensities based on type and concentration. This process is called 2d electrophos. \n",
    "<img src=\"b15a.png\">\n",
    "Peptide mass fingerprinting takes protein fragments and separates/reads spectral lines to identify type. The problem\n",
    "is most proteins are too large for mass spec. Use matrixassisted laser desorption ionization time-of-flight(MALDI-TOF)\n",
    " which is good for AA up to 50 peptide long chains. \n",
    "<img src=\"b16.png\">\n",
    "<img src=\"b17.png\">\n",
    "<img src=\"b18.png\">\n",
    "<img src=\"b19.png\">\n",
    "<img src=\"b20.png\">\n",
    "<img src=\"b21.png\">\n",
    "<img src=\"b22.png\">\n"
   ]
  },
  {
   "cell_type": "code",
   "execution_count": null,
   "metadata": {},
   "outputs": [],
   "source": []
  }
 ],
 "metadata": {
  "kernelspec": {
   "display_name": "Python 3",
   "language": "python",
   "name": "python3"
  },
  "language_info": {
   "codemirror_mode": {
    "name": "ipython",
    "version": 3
   },
   "file_extension": ".py",
   "mimetype": "text/x-python",
   "name": "python",
   "nbconvert_exporter": "python",
   "pygments_lexer": "ipython3",
   "version": "3.6.5"
  }
 },
 "nbformat": 4,
 "nbformat_minor": 2
}
