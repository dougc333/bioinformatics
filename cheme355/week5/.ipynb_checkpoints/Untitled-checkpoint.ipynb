{
 "cells": [
  {
   "cell_type": "code",
   "execution_count": null,
   "metadata": {},
   "outputs": [],
   "source": [
    "<h6>Ch11 RNA Transcripts</h6>\n",
    "<img src=\"r1.png\">\n",
    "<img src=\"r2.png\">\n",
    "<img src=\"r3.png\">\n",
    "<img src=\"r4.png\">\n",
    "<img src=\"r5.png\">\n",
    "<img src=\"r6.png\">\n",
    "<img src=\"r7.png\">\n",
    "<img src=\"r8.png\">\n",
    "<img src=\"r9.png\">\n",
    "<img src=\"r10.png\">\n",
    "<img src=\"r11.png\">\n",
    "<img src=\"r12.png\">\n",
    "<img src=\"r13.png\">\n",
    "<img src=\"r14.png\">\n",
    "<img src=\"r15.png\">\n",
    "<img src=\"r16.png\">\n",
    "<img src=\"r17.png\">\n",
    "<img src=\"r18.png\">\n",
    "<img src=\"r19.png\">\n",
    "<img src=\"r20.png\">\n",
    "<img src=\"r21.png\">\n",
    "<img src=\"r22.png\">\n",
    "<img src=\"r23.png\">\n",
    "<img src=\"r24.png\">\n",
    "<img src=\"r25.png\">\n",
    "<img src=\"r26.png\">\n"
   ]
  }
 ],
 "metadata": {
  "kernelspec": {
   "display_name": "Python 3",
   "language": "python",
   "name": "python3"
  },
  "language_info": {
   "codemirror_mode": {
    "name": "ipython",
    "version": 3
   },
   "file_extension": ".py",
   "mimetype": "text/x-python",
   "name": "python",
   "nbconvert_exporter": "python",
   "pygments_lexer": "ipython3",
   "version": "3.6.5"
  }
 },
 "nbformat": 4,
 "nbformat_minor": 2
}
