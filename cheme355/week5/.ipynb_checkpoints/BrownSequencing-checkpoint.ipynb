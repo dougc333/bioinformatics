{
 "cells": [
  {
   "cell_type": "code",
   "execution_count": null,
   "metadata": {},
   "outputs": [],
   "source": [
    "<img src=\"s1.png\">\n",
    "<img src=\"s2.png\">\n",
    "<img src=\"s3.png\">\n",
    "<img src=\"s4.png\">\n",
    "<img src=\"s5.png\">\n",
    "<img src=\"s6.png\">\n",
    "<img src=\"s7.png\">\n",
    "<img src=\"s8.png\">\n",
    "<img src=\"s9.png\">\n",
    "<img src=\"s10.png\">\n",
    "<img src=\"s11.png\">\n",
    "<img src=\"s12.png\">\n",
    "<img src=\"s13.png\">\n"
   ]
  }
 ],
 "metadata": {
  "kernelspec": {
   "display_name": "Python 3",
   "language": "python",
   "name": "python3"
  },
  "language_info": {
   "codemirror_mode": {
    "name": "ipython",
    "version": 3
   },
   "file_extension": ".py",
   "mimetype": "text/x-python",
   "name": "python",
   "nbconvert_exporter": "python",
   "pygments_lexer": "ipython3",
   "version": "3.6.5"
  }
 },
 "nbformat": 4,
 "nbformat_minor": 2
}
