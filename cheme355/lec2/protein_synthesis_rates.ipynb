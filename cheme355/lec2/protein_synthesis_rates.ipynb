{
 "cells": [
  {
   "cell_type": "markdown",
   "metadata": {},
   "source": [
    "<h6>Protein Synthesis Rates. Can you tell if you can run out of mRNA if you pick max codon?</h6>\n",
    "Protein synthesis largest consumer of energy in cell lifetime. 50% for bacteria and 30% for mammalian cell. \n",
    "Does the cell actually control synthesis of protein components? Could have degradation of cell subunits to \n",
    "maintian relative concentration levels of AA/protein components vs. mechanisms in synthesis. Some functional \n",
    "and metaboilic pathways are ok under variations of protein levels through posttranslational feedback. These post translational\n",
    "mechanims are dominant strategy. (covered in lec2)"
   ]
  },
  {
   "cell_type": "code",
   "execution_count": null,
   "metadata": {},
   "outputs": [],
   "source": []
  }
 ],
 "metadata": {
  "kernelspec": {
   "display_name": "Python 3",
   "language": "python",
   "name": "python3"
  },
  "language_info": {
   "codemirror_mode": {
    "name": "ipython",
    "version": 3
   },
   "file_extension": ".py",
   "mimetype": "text/x-python",
   "name": "python",
   "nbconvert_exporter": "python",
   "pygments_lexer": "ipython3",
   "version": "3.6.1"
  }
 },
 "nbformat": 4,
 "nbformat_minor": 2
}
