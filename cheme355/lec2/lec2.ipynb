{
 "cells": [
  {
   "cell_type": "markdown",
   "metadata": {},
   "source": [
    "\n",
    "<h6>lecture 2</h6>\n",
    "Types of cells I can use for reactors. Ecoli,Yeast Saccrom.., Plant, Mammal cell. \n",
    "Doubling time, how fast can you expand culture. EColi you can get to 20mins. Plants take days. If make mammal protein\n",
    "or protein which takes lots of decoration or protein post transactional modifications PPTM, one reasons vaccines are \n",
    "made in plants bc of PPTMs. Have to add other things to get cells to grow. Mammal cells require you to provide AA. \n",
    "THe complexity of the cells dont scale with genome complexity. Mutation rate 10-8, mutation rates, every couple doublings\n",
    "you get a mutation. It will mutate so no longer creating the protein you want. \n",
    "<img src=\"lec2.png\">\n",
    "\n",
    "<h6>Central Dogma applied</h6>\n",
    "DNA->mRNA->protein->product\n",
    "DNA double stranded, RNA single stranded. Way to do cDNA or reverse transcription from RNA to DNA. 2 examples of \n",
    "actual products using scaffolding of Central Dogma. 1) insulin. What is insulin? In Eukaryotic peptide hormone. MOl weight = 5.8kDa\n",
    "or about 51 AA. not small but not large like enzyme size. Teh gene is INS which encodes this peptide hormone. INS gene \n",
    "codes insulin. 2 AA chains connected by disulfide bonds. 2) thiocillin, looks like an antibiotic. AB made by mold/fungus. Thicillin \n",
    "comes for prokaryote/bacteria. Peptide and AB. MOlWe: 1.1kDa. 14 AA. gene=tclE. \n",
    "<img src=\"lec2a.png\">\n",
    "<img src=\"lec2b.png\">\n"
   ]
  },
  {
   "cell_type": "markdown",
   "metadata": {},
   "source": [
    "q) how do you do the morphing from the peptide product to make it look like thiocillinB? If you want to make insulin\n",
    "in the 80s using a recombinant organism. Means you took genes from somewhere else and you built a cell that produces\n",
    "something by recombining DNA. Insulin made in humans put it into another cell tytpe. Put it into yeast or ecoli but \n",
    "normally made in mammal cell in nature. Complexity of mammalian cell vs. yeast. Easier to work with. \n",
    "\n",
    "\n",
    "\n",
    "<img src=\"lec2b.png\">\n",
    "How to encode peptides? 4 letter code A,U,C,G. transfer from this code to peptides using tRNA. UAA, UAG and UGA are \n",
    "inframe stop codons. There are 64 codons and each codon requires a complementary tRNA anticodon/AA pairing. \n",
    "and a lot of redundancy for 20 AA. can have more than 1 tRNA for each 64 codes. \n",
    "tRNA review; the center contains the anticodon, a sequence of 3 NT in the middle of the tRNA. The top is the attached\n",
    "Amino Acid via a tRNA synthease, when you see an \"ase\" means you need ATP for this.\n",
    "Can also see tRNA can partner with more than 1 codon. There are 3 stop codons. 61/64 codons left. Wobble base pair\n",
    "are 4 main G-U, I-U, I-A, I-C mappings in the last codon. \n",
    "<img src=\"lec2b.png\">\n",
    "Wobble base pairing. 2 pair from tRNA to mRNA. One missing. \n",
    "<img src=\"w1.png\">\n",
    "Complementary Watson-Crick rules normal pairing rules are in bold. Not a perfect codon/anticodon match so can have\n",
    "codon pairing to more than 1 rna? \n",
    "<img src=\"w2.png\">\n",
    "<img src=\"lec2c.png\">"
   ]
  },
  {
   "cell_type": "code",
   "execution_count": null,
   "metadata": {},
   "outputs": [],
   "source": [
    "In bacteria we have 20 AA which we need, we have 31 tRNAs. 61 codons can be used w/31 tRNAs. Some of them are wobble\n",
    "pairing. Shine-Delgardo region in mRNA only for prokaryotes. Eukaryotes create 5' cap which is a modified Guanine. "
   ]
  }
 ],
 "metadata": {
  "kernelspec": {
   "display_name": "Python 3",
   "language": "python",
   "name": "python3"
  },
  "language_info": {
   "codemirror_mode": {
    "name": "ipython",
    "version": 3
   },
   "file_extension": ".py",
   "mimetype": "text/x-python",
   "name": "python",
   "nbconvert_exporter": "python",
   "pygments_lexer": "ipython3",
   "version": "3.6.1"
  }
 },
 "nbformat": 4,
 "nbformat_minor": 2
}
