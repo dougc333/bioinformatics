{
 "cells": [
  {
   "cell_type": "code",
   "execution_count": null,
   "metadata": {},
   "outputs": [],
   "source": [
    "<h6>GlickCh18 725-738</h6>\n",
    "Ti plasmid systems for plants, these are T-DNA systems where there are 2 plasmids, a binary shuttle vector which can \n",
    "live in ecoli or agrobacterioum(the gram negative bacterium that causes crown gall tumors, a big \n",
    "wart on the outside of a plant) and a helper plasmid. \n",
    "\n",
    "<img src=\"h1.png\">\n",
    "<img src=\"h2.png\">\n",
    "<img src=\"h3.png\">\n",
    "<img src=\"h4.png\">\n",
    "<img src=\"h5.png\">\n",
    "<img src=\"h6.png\">\n",
    "<img src=\"h7.png\">\n",
    "<img src=\"h8.png\">\n",
    "<img src=\"h9.png\">\n",
    "<img src=\"h10.png\">"
   ]
  },
  {
   "cell_type": "code",
   "execution_count": null,
   "metadata": {},
   "outputs": [],
   "source": [
    "<li>1.  Why is the Ti plasmid from A. tumefaciens  well suited for developing a vector to transfer foreign genes into plant chromosomal DNA? </li>\n",
    "<li>2.  How do (1) binary and (2) cointegrate Ti plasmid-based vector systems for plant transformation differ from one another? </li>\n",
    "<li>3.  What are reporter genes, and how are they used when plant cells are transformed? </li>\n",
    "<li>4.  How are plants transformed by microprojectile bombardment? </li>\n",
    "<li>5.  Describe how you would isolate a root-specific plant promoter</li>\n",
    "<li>6.  How is foreign DNA targeted for integration into chloroplast DNA? </li>\n",
    "<li>7.  How would you produce a transgenic plant that does not contain a marker gene?</li> \n",
    "<li>8.  How would you ensure that a foreign gene that has been inserted into the chloroplast is expressed at a high level? </li>\n",
    "<li>9.  How can RNA–DNA chimeric molecules be used to introduce targeted alterations to plant genomic DNA? </li>\n",
    "<li>10.  How would you downregulate the expression of a plant gene? </li>\n",
    "11.  What is the advantage of introducing foreign genes into chloroplast rather than nuclear DNA? \n",
    "12.  What is rhizosecretion? Why is it useful? How can it be engineered? \n",
    "13.  How can chromosomal marker genes be removed without using sexual crossing to segregate the selectable marker from the gene of interest? \n",
    "14.  Describe a strategy that could be used to remove antibiotic-resistant marker genes from chloroplast DNA. \n",
    "15.  Suggest a strategy that would facilitate the large-scale purification of soluble proteins, such as antibody fragments, in plants. \n",
    "16.  How do enhancer sequences facilitate plant gene expression? \n",
    "17.  How can oleosins be used to facilitate the purification of a target protein synthesized in a transgenic plant? \n",
    "18.  How would you modify the glycosylation pattern of a mammalian protein produced in plants? \n",
    "19.  How would you use the yeast DAO  gene to select transgenic plants that contain only the introduced target gene and no selectable marker gene?"
   ]
  }
 ],
 "metadata": {
  "kernelspec": {
   "display_name": "Python 3",
   "language": "python",
   "name": "python3"
  },
  "language_info": {
   "codemirror_mode": {
    "name": "ipython",
    "version": 3
   },
   "file_extension": ".py",
   "mimetype": "text/x-python",
   "name": "python",
   "nbconvert_exporter": "python",
   "pygments_lexer": "ipython3",
   "version": "3.6.1"
  }
 },
 "nbformat": 4,
 "nbformat_minor": 2
}
