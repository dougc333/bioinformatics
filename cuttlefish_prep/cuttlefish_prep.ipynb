{
 "cells": [
  {
   "cell_type": "markdown",
   "metadata": {},
   "source": [
    "<h6>Cuttlefish prep</h6>\n",
    "<h6>Run on remote display. Start xquartz on mac. ssh -Y dc#192.168.0.11 run fastqc from xquartz window and \n",
    "load the 3 15GB ERRXXXX.fastq files</h6>\n",
    "Source: John Kern's slack page\n",
    "<img src=\"johnkernexample1.png\">\n",
    "<img src=\"johnkernexample2.png\">\n"
   ]
  },
  {
   "cell_type": "markdown",
   "metadata": {},
   "source": [
    "<img src=\"fastqc_err1a.png\">\n",
    "<img src=\"fastqc_err1b.png\">\n",
    "<img src=\"fastqc_err1c.png\">\n",
    "<img src=\"fastqc_err1d.png\">\n",
    "<img src=\"fastqc_err1e.png\">\n",
    "<img src=\"fastqc_err1f.png\">\n",
    "<img src=\"fastqc_err1g.png\">\n",
    "<img src=\"fastqc_err1h.png\">\n",
    "<img src=\"fastqc_err1i.png\">\n",
    "<img src=\"fastqc_err1j.png\">\n",
    "<img src=\"fastqc_err1k.png\">\n",
    "<img src=\"fastqc_err1l.png\">\n"
   ]
  },
  {
   "cell_type": "markdown",
   "metadata": {},
   "source": [
    "<h6>Installing Spades</h6>\n",
    "<p>https://github.com/bioboxes/shovill/blob/master/image/bin/install/shovill.sh</p>\n",
    "The shovill Spades repo contains incomplete info. Add the binaries from the docker image\n",
    "to install the prereqs. Also to install trimmomatic create a bash script as described below:\n",
    "https://vcru.wisc.edu/simonlab/bioinformatics/programs/install/trimmomatic.htm\n",
    "<p></p>\n",
    "Additional notes for installing shovill prerequisites: should be a faster version of Spades!! If true.\n",
    "<img src=\"shovill1.png\">\n",
    "<img src=\"shovill2.png\">\n",
    "<img src=\"shovill3.png\">\n",
    "<img src=\"shovill4.png\">\n",
    "<img src=\"shovill5.png\">\n",
    "<img src=\"shovill6.png\">\n",
    "<img src=\"shovill7.png\">\n",
    "<img src=\"shovill8.png\">\n"
   ]
  },
  {
   "cell_type": "code",
   "execution_count": null,
   "metadata": {},
   "outputs": [],
   "source": []
  }
 ],
 "metadata": {
  "kernelspec": {
   "display_name": "Python 3",
   "language": "python",
   "name": "python3"
  },
  "language_info": {
   "codemirror_mode": {
    "name": "ipython",
    "version": 3
   },
   "file_extension": ".py",
   "mimetype": "text/x-python",
   "name": "python",
   "nbconvert_exporter": "python",
   "pygments_lexer": "ipython3",
   "version": "3.6.1"
  }
 },
 "nbformat": 4,
 "nbformat_minor": 2
}
