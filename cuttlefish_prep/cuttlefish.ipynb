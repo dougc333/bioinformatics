{
 "cells": [
  {
   "cell_type": "markdown",
   "metadata": {},
   "source": [
    "<h6>Cuttlefish Denovo Assembly Workflow</h6>\n",
    "\n",
    "<p>We were presented with approximately 60G of data files from a cuttlefish sequence. This was not the egg. The goal \n",
    "is to generate a reference sequence</p>\n",
    "\n",
    "<img src=\"c1.png\">\n",
    "\n",
    "A sample read looks like: \n",
    "<img src=\"c2.png\">\n",
    "\n",
    "This file is different from the SRR data which you download using the sra toolkit. A sample read from this reference\n",
    "genome looks like. Note there is no 8 nucleotide sequence at the end of the @ line.:\n",
    "<img src=\"c3.png\">"
   ]
  },
  {
   "cell_type": "markdown",
   "metadata": {},
   "source": [
    "<h6>Illumina Background</h6>\n",
    "Source:http://nextgen.mgh.harvard.edu/IlluminaChemistry.html\n",
    "        \n",
    "The cuttlefish read files are denoted by FileName.R1 and FileName.R2. Both of those files\n",
    "are matched as paired reads where FileName=Undetermined_S0_L00X_001. The first step described as starting library\n",
    "matches the Biocurious Library Prep class where we used the Nextera DNA Flex Library prep kit. There was a sample\n",
    "sheet in the lab which described the adapters as we were adding them. Reading a single strand in one direction \n",
    "gives us reads in the R1 file and reading the same strand in the reverse direcion as the strand is bent down into an \n",
    "upside U and reversed gives us the R2 read. The lines in each file should be correlated to the same DNA half strand. \n",
    "\n",
    "<img src=\"i1.png\">\n",
    "<img src=\"i2.png\">\n",
    "<img src=\"i3.png\">"
   ]
  },
  {
   "cell_type": "code",
   "execution_count": null,
   "metadata": {},
   "outputs": [],
   "source": [
    "<h6>Paired Reads</h6>\n",
    "From the above image flattening out the inverted u we get a sequence of 2 reads: \n",
    "<img src=\"pr.png\">\n",
    "The XXR1 and XXR2 files represent these 2 reads. It does not matter trying to find out which one is forward and \n",
    "which one is reverse, both reads are reverse complements of each other. \n",
    "e.g. TTCAG<->CTGAA\n"
   ]
  },
  {
   "cell_type": "markdown",
   "metadata": {},
   "source": [
    "<h6>Cause of bad reads</h6>\n",
    "<img src=\"badreads.png\">\n",
    "<img src=\"readerror1.png\">\n",
    "    <img src = \"readerror2.png\">\n",
    "    <img src = \"readerror3.png\">\n",
    "    <img src = \"fastqformat.png\">"
   ]
  },
  {
   "cell_type": "code",
   "execution_count": null,
   "metadata": {},
   "outputs": [],
   "source": [
    "<h6>Checking the data -- Do not write programs</h6>\n",
    "\n",
    "\n",
    "\n",
    "\n",
    "\n",
    "\n",
    "\n",
    "\n"
   ]
  },
  {
   "cell_type": "markdown",
   "metadata": {},
   "source": [
    "<h6>Running FastQC</h6>\n",
    "What is a universal adapter? \n",
    "https://www.biostars.org/p/4798/\n",
    "    \n",
    "<p></p>\n",
    "Run over all the data with a bash script. Don't type in commands because you can't explain to someone what you\n",
    "did if there is a problem. Make your own log system. \n",
    "\n",
    "<img src=\"cuttlefishfastqc1.png\">\n",
    "<img src=\"cuttlefishfastqc2.png\">\n",
    "    "
   ]
  },
  {
   "cell_type": "markdown",
   "metadata": {},
   "source": [
    "<h6>Tried 3 cleaning tools, AfterQC, trimmomatic, BBMap</h6>\n",
    "Which one is better and why?"
   ]
  },
  {
   "cell_type": "markdown",
   "metadata": {},
   "source": [
    "<h6>AfterQC</h6>\n",
    "The advantage of using AfterQC is it automatically selects the parameters for you. Since I have no experience in this\n",
    "field I tried this as a first step and tried to examine the changes in the data after running a simple form of cleaning.\n",
    "\n",
    "<img src=\"afterqc1.png\">\n",
    "<img src=\"afterqc2.png\">\n",
    "Note the parameters for trim_front and trim_tail are different. One is 15/0 the other 15/7. This step can also be \n",
    "done with trimmomatic but I don't understand how the sliding window works and how it is better. "
   ]
  },
  {
   "cell_type": "markdown",
   "metadata": {},
   "source": [
    "<h6>Removing Adapters/Barcodes with BBMap</h6>\n",
    "The barcodes are added under file BBMap/resources/adapters.fa. This is a comprehensive list of the Illumina adapters. \n",
    "\n"
   ]
  },
  {
   "cell_type": "code",
   "execution_count": 1,
   "metadata": {},
   "outputs": [
    {
     "data": {
      "text/html": [
       "<table><tr><td><img src='L007R2_orig.png'></td><td><img src='L007R2_afterqc.png'></td></tr></table>"
      ],
      "text/plain": [
       "<IPython.core.display.HTML object>"
      ]
     },
     "metadata": {},
     "output_type": "display_data"
    }
   ],
   "source": [
    "Below is a comparison of BBMap vs. Trimmomatic. Trimmomatic on left, BBMap on right. Adapter content\n",
    "like original after trimmomatic. no difference. \n",
    "from IPython.display import HTML, display\n",
    "display(HTML(\"<table><tr><td><img src='L007R2_orig.png'></td><td><img src='L007R2_afterqc.png'></td></tr></table>\"))"
   ]
  },
  {
   "cell_type": "markdown",
   "metadata": {},
   "source": [
    "<h6>Trimmomatic</h6>\n",
    "Better on quality scores, they don't include the indexes so adapters not trimmed\n",
    "worse on the adapter removal than AfterQC\n",
    "<img src=\"trimmomatic1.png\">\n"
   ]
  },
  {
   "cell_type": "code",
   "execution_count": 2,
   "metadata": {},
   "outputs": [
    {
     "data": {
      "text/html": [
       "<table><tr><td><img src='L007R1_orig.png'></td><td><img src=' L007R1_trimmomatic.png'></td></tr></table>"
      ],
      "text/plain": [
       "<IPython.core.display.HTML object>"
      ]
     },
     "metadata": {},
     "output_type": "display_data"
    }
   ],
   "source": [
    "#original on left, trimmomatic on right. Much better!!!\n",
    "from IPython.display import HTML, display\n",
    "display(HTML(\"<table><tr><td><img src='L007R1_orig.png'></td><td><img src=' L007R1_trimmomatic.png'></td></tr></table>\"))\n"
   ]
  },
  {
   "cell_type": "code",
   "execution_count": 3,
   "metadata": {},
   "outputs": [
    {
     "data": {
      "text/html": [
       "<table><tr><td><img src='L007R1_adapter_orig.png'></td><td><img src='L007R1_adapter_trimmomatic.png'></td></tr></table>"
      ],
      "text/plain": [
       "<IPython.core.display.HTML object>"
      ]
     },
     "metadata": {},
     "output_type": "display_data"
    }
   ],
   "source": [
    "#orig on left, trimmomatic trim of adapters based on included Nexterra adapters. No indexes!!!!! \n",
    "from IPython.display import HTML, display\n",
    "display(HTML(\"<table><tr><td><img src='L007R1_adapter_orig.png'></td><td><img src='L007R1_adapter_trimmomatic.png'></td></tr></table>\"))"
   ]
  },
  {
   "cell_type": "markdown",
   "metadata": {},
   "source": [
    "<h6>Removing overrepresented sequences from paired files</h6>\n",
    "https://www.biostars.org/p/279450/\n",
    "Use cutadapt\n",
    "    "
   ]
  },
  {
   "cell_type": "markdown",
   "metadata": {},
   "source": [
    "<h6>Abyss testing the bloom filter fill rate</h6>\n",
    "<img src=\"bloom1.png\">"
   ]
  },
  {
   "cell_type": "markdown",
   "metadata": {},
   "source": [
    "<h6>How Assemblers Work</h6>\n",
    "<img src=\"debruin1.png\">\n"
   ]
  },
  {
   "cell_type": "markdown",
   "metadata": {},
   "source": [
    "<h6>Building your own assembler</h6>\n",
    "http://nbviewer.jupyter.org/gist/BenLangmead/7237207\n"
   ]
  },
  {
   "cell_type": "markdown",
   "metadata": {},
   "source": [
    "<h6>Velvet error</h6>\n",
    "<img src=\"velveterror1.png\">"
   ]
  },
  {
   "cell_type": "markdown",
   "metadata": {},
   "source": [
    "<h6>Running Abyss</h6>\n",
    "On nontrimmed or adapter removed data\n",
    "<img src=\"abyssnumreads.png\">"
   ]
  },
  {
   "cell_type": "code",
   "execution_count": null,
   "metadata": {},
   "outputs": [],
   "source": []
  }
 ],
 "metadata": {
  "kernelspec": {
   "display_name": "Python 3",
   "language": "python",
   "name": "python3"
  },
  "language_info": {
   "codemirror_mode": {
    "name": "ipython",
    "version": 3
   },
   "file_extension": ".py",
   "mimetype": "text/x-python",
   "name": "python",
   "nbconvert_exporter": "python",
   "pygments_lexer": "ipython3",
   "version": "3.6.1"
  }
 },
 "nbformat": 4,
 "nbformat_minor": 2
}
