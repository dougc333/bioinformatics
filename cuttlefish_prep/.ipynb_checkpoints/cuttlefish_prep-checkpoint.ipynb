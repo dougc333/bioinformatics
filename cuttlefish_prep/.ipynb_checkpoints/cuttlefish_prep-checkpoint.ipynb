{
 "cells": [
  {
   "cell_type": "markdown",
   "metadata": {},
   "source": [
    "<h6>Cuttlefish prep</h6>\n",
    "<h6>Run on remote display. Start xquartz on mac. ssh -Y dc#192.168.0.11 run fastqc from xquartz window and \n",
    "load the 3 15GB ERRXXXX.fastq files</h6>\n",
    "Source: John Kern's slack page\n",
    "<img src=\"johnkernexample1.png\">\n",
    "<img src=\"johnkernexample2.png\">\n"
   ]
  },
  {
   "cell_type": "markdown",
   "metadata": {},
   "source": [
    "<img src=\"fastqc_err1a.png\">\n",
    "<img src=\"fastqc_err1b.png\">\n",
    "<img src=\"fastqc_err1c.png\">\n",
    "<img src=\"fastqc_err1d.png\">\n",
    "<img src=\"fastqc_err1e.png\">\n",
    "<img src=\"fastqc_err1f.png\">\n",
    "<img src=\"fastqc_err1g.png\">\n",
    "<img src=\"fastqc_err1h.png\">\n",
    "<img src=\"fastqc_err1i.png\">\n",
    "<img src=\"fastqc_err1j.png\">\n",
    "<img src=\"fastqc_err1k.png\">\n",
    "<img src=\"fastqc_err1l.png\">\n"
   ]
  },
  {
   "cell_type": "code",
   "execution_count": null,
   "metadata": {},
   "outputs": [],
   "source": []
  }
 ],
 "metadata": {
  "kernelspec": {
   "display_name": "Python 3",
   "language": "python",
   "name": "python3"
  },
  "language_info": {
   "codemirror_mode": {
    "name": "ipython",
    "version": 3
   },
   "file_extension": ".py",
   "mimetype": "text/x-python",
   "name": "python",
   "nbconvert_exporter": "python",
   "pygments_lexer": "ipython3",
   "version": "3.6.1"
  }
 },
 "nbformat": 4,
 "nbformat_minor": 2
}
