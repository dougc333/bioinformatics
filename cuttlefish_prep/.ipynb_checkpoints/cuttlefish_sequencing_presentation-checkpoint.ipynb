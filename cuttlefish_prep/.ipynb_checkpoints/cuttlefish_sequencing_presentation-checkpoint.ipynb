{
 "cells": [
  {
   "cell_type": "code",
   "execution_count": null,
   "metadata": {},
   "outputs": [],
   "source": [
    "<h6>Cuttlefish Assembly</h6>\n",
    "source: https://www.melbournebioinformatics.org.au/tutorials/tutorials/assembly/assembly-protocol/"
   ]
  },
  {
   "cell_type": "markdown",
   "metadata": {},
   "source": [
    "<h6>FastQC on cuttlefish data Runtime: 20 minutes</h6>\n",
    "<img src=\"cuttlefishfastqc1.png\">\n",
    "<img src=\"cuttlefishfastqc2.png\">\n"
   ]
  },
  {
   "cell_type": "code",
   "execution_count": null,
   "metadata": {},
   "outputs": [],
   "source": [
    "<h6>Assembly on cuttlefish</h6>\n",
    "<li>R1/R2 files are left/right paired end reads. The lengths do not match up like the reference cases</li>\n",
    "<li>SPAdes for bacteria; not for large genome assy. </li>\n",
    "<li>Meraculous2 is not clear what the command line arguments should be</li>\n",
    "\n",
    "<img src=\"mer1.png\">\n",
    "<h6>Meraculous2 Prep</h6>\n",
    "<img src=\"mer1a.png\">\n",
    "<img src=\"mer2.png\">\n",
    "\n",
    "<img src=\"mer4.png\">\n",
    "<img src=\"mer5.png\">\n",
    "<img src=\"mer6.png\">\n",
    "<img src=\"mer7.png\">\n",
    "<img src=\"mer8.png\">\n",
    "<img src=\"mer9.png\">\n",
    "<p>2018/02/22 17:51:15 meraculous.pl main:: 737> RUNNING STAGE: meraculous_import</p>\n",
    "<p>2018/02/22 17:51:17 meraculous.pl main:: 737> RUNNING STAGE: meraculous_mercount</p>\n",
    "<p>2018/02/22 17:52:32 meraculous.pl main:: 737> RUNNING STAGE: meraculous_mergraph</p>\n",
    "<p>2018/02/22 17:54:04 meraculous.pl main:: 737> RUNNING STAGE: meraculous_ufx</p>\n",
    "<p>2018/02/22 17:54:15 meraculous.pl main:: 737> RUNNING STAGE: meraculous_contigs</p>\n",
    "<p>2018/02/22 17:54:20 meraculous.pl main:: 737> RUNNING STAGE: meraculous_bubble</p>\n",
    "<p>2018/02/22 17:55:16 meraculous.pl main:: 737> RUNNING STAGE: meraculous_merblast</p>\n",
    "<p>2018/02/22 17:55:59 meraculous.pl main:: 737> RUNNING STAGE: meraculous_ono</p>\n",
    "<p>2018/02/22 17:56:55 meraculous.pl main:: 737> RUNNING STAGE: meraculous_gap_closure</p>\n",
    "<p>2018/02/22 17:57:14 meraculous.pl main:: 737> RUNNING STAGE: meraculous_final_results</p>\n",
    "<p>2018/02/22 17:57:14 meraculous.pl main:: 818> RUN COMPLETED SUCCESSFULLY !</p>\n",
    "<p>2018/02/22 17:57:14 meraculous.pl main:: 828> Total run time: 359.151351 seconds.</p>\n",
    "<p>2018/02/22 17:57:14 meraculous.pl main:: 830> Thank you for running Meraculous!</p>"
   ]
  },
  {
   "cell_type": "markdown",
   "metadata": {},
   "source": [
    "<img src=\"debruin1.png\">"
   ]
  },
  {
   "cell_type": "code",
   "execution_count": null,
   "metadata": {},
   "outputs": [],
   "source": []
  }
 ],
 "metadata": {
  "kernelspec": {
   "display_name": "Python 3",
   "language": "python",
   "name": "python3"
  },
  "language_info": {
   "codemirror_mode": {
    "name": "ipython",
    "version": 3
   },
   "file_extension": ".py",
   "mimetype": "text/x-python",
   "name": "python",
   "nbconvert_exporter": "python",
   "pygments_lexer": "ipython3",
   "version": "3.6.1"
  }
 },
 "nbformat": 4,
 "nbformat_minor": 2
}
