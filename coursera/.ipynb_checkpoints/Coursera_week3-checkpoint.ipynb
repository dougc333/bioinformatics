{
 "cells": [
  {
   "cell_type": "markdown",
   "metadata": {},
   "source": [
    "<h6>Week 3: From implanted patterns to regulatory motifs</h6>\n",
    "Source:http://web.mit.edu/manoli/www/thesis/Chapter3.html\n",
    "    <p>If you took a random sequence of nucleotides and added a pattern 15N long, how would you find these 15N patterns?\n",
    "    We could use the frequent kmer solution where we look for a repeat pattern exhaustivly. If the kmers are all the\n",
    "    same we could find them. If we don't know what the kmer is we can still exhaustively find it if we assume this \n",
    "    is a repeating pattern in a long string. Use the frequent kmer algoritm from earlier\n",
    "    </p>\n",
    "    <img src=\"motif1.png\">\n",
    "    <img src=\"motif2.png\">\n",
    "    <img src=\"motif3.png\">\n",
    "    <img src=\"motif4.png\">\n",
    "    Now implant a pattern 10 times where there are 4 random mutations in the pattern. This is a (k,d) motif where the \n",
    "    implanted pattern has d random mutations and is of length k. This requires a different algorithm. Define an implanted\n",
    "    motif problem where the input is k,d where k is the length of the kmer and d is the distance mismatch for the kmer and reutrn\n",
    "    the kmers in the string. \n",
    "    <img src=\"motif5.png\">\n",
    "    There are 3 genes which control whether the plant is in day or night mode, CCA1, LCY and TOC1\n",
    "    <img src=\"motif6.png\">\n",
    "    These transcription factors bind to the genes. How does CCA1 know where to bind? Probably there are some hidden\n",
    "    messages which tell CCA1 where to bind. \n",
    "    <img src=\"motif7.png\">\n",
    "    <img src=\"motif8.png\">\n",
    "    We define a new algoritm to find these implanted motifs. find all k,d matches. Should we explore all 4^k kmers? \n",
    "    To see which match k,d kmer/mismatches? This exhaustive search will take too much time. \n",
    "    Instead of calculating each possible motif and calculating the d distance variants from it; we can assign a \n",
    "    score to each motif. \n",
    "    <img src=\"motif9.png\">\n",
    "    <img src=\"motif10.png\">\n",
    "    <img src=\"motif11.png\">\n",
    "    <img src=\"motif12.png\">\n",
    "    <img src=\"motif13.png\">\n",
    "    <img src=\"motif14.png\">\n",
    "    <img src=\"motif15.png\">\n",
    "    <img src=\"motif16.png\">\n",
    "    <img src=\"motif17.png\">\n",
    "    <img src=\"motif18.png\">\n",
    "    "
   ]
  },
  {
   "cell_type": "code",
   "execution_count": 3,
   "metadata": {},
   "outputs": [
    {
     "name": "stdout",
     "output_type": "stream",
     "text": [
      "0.0\n",
      "0.0\n"
     ]
    }
   ],
   "source": [
    "#calculate entropy defined as -sum(p(x)*log(p(x))) there are no 0 values b/c it throws the calculation off\n",
    "#and in the language models we add a kludge to make sure there are no 0 probabilities for words\n",
    "\n",
    "import numpy as np\n",
    "\n",
    "p1=1 #problem if p1=0\n",
    "print(np.log(p1))\n",
    "\n",
    "res = np.multiply(p1,np.log(p1))\n",
    "print(res)"
   ]
  },
  {
   "cell_type": "code",
   "execution_count": 2,
   "metadata": {},
   "outputs": [
    {
     "name": "stdout",
     "output_type": "stream",
     "text": [
      "no_zeros: [0.5 0.5]\n",
      "-0.6931471805599453\n",
      "no_zeros: [0.25 0.25 0.25 0.25]\n",
      "-1.3862943611198906\n",
      "no_zeros: [1]\n",
      "0.0\n",
      "no_zeros: [0.25 0.5  0.25]\n",
      "-1.0397207708399179\n"
     ]
    }
   ],
   "source": [
    "#http://web.mit.edu/16.unified/www/FALL/thermodynamics/notes/node57.html\n",
    "    \n",
    "#in the statistical definition of randomness and entropy the system with a uniform probability distribution \n",
    "#has the highest entropy. \n",
    "\n",
    "def entropy(a):\n",
    "    #remove 0s first then with the new array\n",
    "    b=a[a!=0]\n",
    "    print(\"no_zeros:\",b)\n",
    "    entropy = np.dot(b,np.log(b))\n",
    "    print(entropy)\n",
    "\n",
    "#you have to manually take out the zeros? \n",
    "a = np.array([.5,0.,0,.5])\n",
    "entropy(a)\n",
    "b = np.array([0.25, 0.25, 0.25, 0.25])\n",
    "entropy(b)\n",
    "c=np.array([0, 0, 0, 1])\n",
    "entropy(c)\n",
    "d = np.array([0.25, 0, 0.5, 0.25])\n",
    "entropy(d)\n",
    "\n",
    "#by inspection\n"
   ]
  },
  {
   "cell_type": "code",
   "execution_count": null,
   "metadata": {},
   "outputs": [],
   "source": []
  }
 ],
 "metadata": {
  "kernelspec": {
   "display_name": "Python 3",
   "language": "python",
   "name": "python3"
  },
  "language_info": {
   "codemirror_mode": {
    "name": "ipython",
    "version": 3
   },
   "file_extension": ".py",
   "mimetype": "text/x-python",
   "name": "python",
   "nbconvert_exporter": "python",
   "pygments_lexer": "ipython3",
   "version": "3.6.1"
  }
 },
 "nbformat": 4,
 "nbformat_minor": 2
}
