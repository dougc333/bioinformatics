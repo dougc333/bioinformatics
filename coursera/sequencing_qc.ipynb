{
 "cells": [
  {
   "cell_type": "code",
   "execution_count": null,
   "metadata": {},
   "outputs": [],
   "source": [
    "<h6>Assembly QC</h6>\n",
    "https://github.com/trinityrnaseq/trinityrnaseq/wiki/Transcriptome-Assembly-Quality-Assessment\n",
    "    \n",
    "<p></p>\n",
    "<li>Do a coverage assessment. 80% or so of the fastq sequences should be in the final contig assy. More or less\n",
    "</li>\n",
    "<li>Examine the representation of full length reconstructed protein genes via lookup in db</li>\n",
    "<li></li>\n",
    "<li>Run BUSCO to determine config ortho content? </li>\n",
    "<li>Compute the E50N50 contig length</li>\n",
    "<li>Compute DETONATE scores</li>\n",
    "<li>run transrate</li>"
   ]
  }
 ],
 "metadata": {
  "kernelspec": {
   "display_name": "Python 3",
   "language": "python",
   "name": "python3"
  },
  "language_info": {
   "codemirror_mode": {
    "name": "ipython",
    "version": 3
   },
   "file_extension": ".py",
   "mimetype": "text/x-python",
   "name": "python",
   "nbconvert_exporter": "python",
   "pygments_lexer": "ipython3",
   "version": "3.6.1"
  }
 },
 "nbformat": 4,
 "nbformat_minor": 2
}
