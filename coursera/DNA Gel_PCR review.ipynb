{
 "cells": [
  {
   "cell_type": "code",
   "execution_count": null,
   "metadata": {
    "collapsed": true,
    "deletable": true,
    "editable": true
   },
   "outputs": [],
   "source": [
    "<h6>DNA Sequencing Review</h6>\n",
    "Source: https://www.khanacademy.org/test-prep/mcat/biomolecules/dna-technology/v/gel-electrophoresis-dna\n",
    "\n",
    "<h6>Gels</h6>      \n",
    "<img src=\"dna_gel1.png\">\n",
    "<p>In vial #1 we have DNA, how to tell how long it is? If we assume the DNA is roughy 5k bp long, it would be physically \n",
    "1-2 um long which is too small for easy physical observation. We are going to use techinque called Gel Electrophoresis \n",
    "to measure length. This technique can be used to determine length of many macromolecules, DNA/RNA/proteins. \n",
    "</p>\n",
    "<p>\n",
    "The gel is an agarose, a polysaccharide, made from seaweed. We add the contents of each vial into wells, physical holes\n",
    "in the gel and we apply a small current/charge. The buffer maintains the pH as charge is applied. Buffer=salt + H2O. \n",
    "</p>\n",
    "<img src=\"dna_gel2.png\">\n",
    "<p>\n",
    "DNA tube 1 = green\n",
    "DNA tube 2 = yellow\n",
    "DNA tube 3 = orange\n",
    "<p/>\n",
    "The orange vial will move less than the blue vial because the strands are longer. The resistance of the gel with the\n",
    "application of a charge causes the negatively charged DNA molecules to move. The smaller fragments move more. Can not\n",
    "leave them in the gel for a long time because they will run out of the end. You compare the relative position\n",
    "of the wells vs. a DNA ladder which you buy which has calibrated DNA BP langths. \n",
    "<img src=\"dna_gel3.png\">\n",
    "How does the DNA phorese when UV light is applied to the gel? bind ethidium bromide to the DNA. EB is inside the black square\n",
    "and it fits inside the DNA moleclue. \n",
    "\n",
    "        "
   ]
  },
  {
   "cell_type": "markdown",
   "metadata": {
    "collapsed": true,
    "deletable": true,
    "editable": true
   },
   "source": [
    "<h6>PCR</h6>\n",
    "\n",
    "<img src=\"dna_pcr1.png\">\n",
    "The first step is to separate the double strands into 2 single starands, called denaturing. In a cell the prcess is different; \n",
    "there are enzynes which di this at body temp. whereas here we raise the temp to 96 degrees C. Prior to this we add into the tube\n",
    "primers and taq polymerase. \n",
    "<img src=\"dna_pcr2.png\">\n",
    "as we cool this to 55 degrees the primer binds to the single strands. this binding prevents the single strands from recombining\n",
    "back into double strands. The TAQ polymerase starts the replication process from the 3->5 direction.\n",
    "q) only one of them are 3->5. the othet strand is ozaki fragments?\n",
    "<img src=\"dna_pcr4.png\">\n",
    "repeat process 35x to get ~1B. process is geometric. \n",
    "<img src=\"dna_pcr5.png\">\n"
   ]
  },
  {
   "cell_type": "markdown",
   "metadata": {
    "collapsed": true,
    "deletable": true,
    "editable": true
   },
   "source": [
    "<h6>DNA lib</h6>\n",
    "<img src=\"dna_lib.png\">"
   ]
  },
  {
   "cell_type": "code",
   "execution_count": null,
   "metadata": {
    "collapsed": true
   },
   "outputs": [],
   "source": []
  },
  {
   "cell_type": "markdown",
   "metadata": {
    "collapsed": true,
    "deletable": true,
    "editable": true
   },
   "source": [
    "<h6>DNA cloning</h6>\n",
    "How to clone a gene. A gene is a region of DNA which creates a protein. We cut the gene using a restriction enzyme. \n",
    "Then place the gene into a plasmid. A plasmid is a piece of genetic material which can replicate but is outside the\n",
    "dna of a cell. Plasmids are usually cicular DNA represetned via the white circle. The DNA ligase connects the \n",
    "backbones together between the plasmid and gene. \n",
    "<img src=\"dna_clone1.png\">\n",
    "Once the plasmid is created, heat shock it w/some E coli bacteria to get the plasmid into the e coli. \n",
    "<img src=\"dna_clone2.png\">\n",
    "some of the bacteria takes in the plasmid, some doesnt so you add an antibiotic into the plasmid and you kill off the bacteria\n",
    "which doesnt have the plasmid/antibiotic combo. The purple in the plasmid is the antibiotic. \n",
    "<img src=\"dna_clone3.png\">"
   ]
  },
  {
   "cell_type": "markdown",
   "metadata": {},
   "source": [
    "<h6>Review of concepts</h6>\n",
    "<img src=\"dna_clone.png\">\n",
    "DNA cloning; take the mRNA from the target you want to clone, use a reverse transcriptase to get the DNA w/EXONS only. \n",
    "This DNA has no intons. Use this fragment to add to a plasmid, insert into bacteria to replicate. \n",
    "<img src=\"dna_hybrid.png\">\n",
    "DNA hybridization uses microarrays to determine if a gene is under regulated, over regulated or ok by testing for \n",
    "concentration of mRNA w microarrays. Tag w dyes and examine color of microarrays. \n",
    "<img src=\"dna_southernblot.png\">\n",
    "Southern blot takes DNA, cuts it into smaller pieces, runs the fragments of varying lengths through a gel, \n",
    "transfers the gel contents to a filter, expose to radio labeled DNA then xray to see if gene of interest is there. \n"
   ]
  },
  {
   "cell_type": "code",
   "execution_count": null,
   "metadata": {
    "collapsed": true
   },
   "outputs": [],
   "source": []
  }
 ],
 "metadata": {
  "kernelspec": {
   "display_name": "Python 3",
   "language": "python",
   "name": "python3"
  },
  "language_info": {
   "codemirror_mode": {
    "name": "ipython",
    "version": 3
   },
   "file_extension": ".py",
   "mimetype": "text/x-python",
   "name": "python",
   "nbconvert_exporter": "python",
   "pygments_lexer": "ipython3",
   "version": "3.4.5"
  }
 },
 "nbformat": 4,
 "nbformat_minor": 2
}
