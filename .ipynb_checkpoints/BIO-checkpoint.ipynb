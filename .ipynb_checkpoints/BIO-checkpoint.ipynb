{
 "cells": [
  {
   "cell_type": "markdown",
   "metadata": {
    "deletable": true,
    "editable": true
   },
   "source": [
    "<h6>Lecture1 </h6>\n",
    "Finding hidden message. Given a string of nucleotides find the most common longest substring.\n",
    "This is the point of origin where the DNA polymerase starts replicating. \n",
    "\n",
    "<img src=\"DNA1.png\">\n",
    "\n"
   ]
  },
  {
   "cell_type": "code",
   "execution_count": null,
   "metadata": {
    "collapsed": true,
    "deletable": true,
    "editable": true
   },
   "outputs": [],
   "source": [
    "In the sequence above there are 4 longest frequent substrings! ATGATCAAG,\n",
    "CTTGATCAT, TCTTGGATCA, CTCTTGATC!. There are 4 9-mers. Which ones are real\n",
    "and which ones are errors? ATGATCAAG and TACTAGTTC are reverse-complement k-mers!\n",
    "DNA has direction, you read the revesrse. So you see the noncompleent/complement 6 times."
   ]
  },
  {
   "cell_type": "markdown",
   "metadata": {
    "deletable": true,
    "editable": true
   },
   "source": [
    "Find start sequence in hot environment 80 degreesC. \n",
    "<img src=\"DNA2.png\">"
   ]
  },
  {
   "cell_type": "code",
   "execution_count": null,
   "metadata": {
    "collapsed": true,
    "deletable": true,
    "editable": true
   },
   "outputs": [],
   "source": [
    "The 9-mers in the above string are: AACCTACCA, ACCTACCAC, GGTAGGTTT,\n",
    "    TGGTAGTT, AAACCTACC, CCTACCACC. The complimentary pairs are: \n",
    "        CCTACCACC, GGATGGTGG. The problem is now to find the 500 nucleotide\n",
    "        region in a sequence of millions of nucleotides? You can look at all\n",
    "        the 500 nucleotide regions in the genome. What is a clump. A kmer forms\n",
    "        a (L,t) clump inside a genome if there is a short length L interval \n",
    "        in the genome in which the kmer appearsa at least t times. Find all \n",
    "        the (L,t) clumps in the hope of finding the oriC. If you run this on\n",
    "        the E-coli genome there are 1904 different 9-mers forming (500,3) clumps. \n",
    "        not clear which of these point to the oriC. \n",
    "\n",
    "        \n",
    "        \n",
    "        "
   ]
  },
  {
   "cell_type": "markdown",
   "metadata": {
    "collapsed": true,
    "deletable": true,
    "editable": true
   },
   "source": [
    "\n",
    "<img src=\"courseralec1quizweek1.png\">\n",
    "<p>1)false from the lecture the computational problem is underspecified until we know \n",
    "what we are looking for; ie are we looking to establish the ori location based on longest most frequent sequences?\n",
    "</p>\n",
    "<p>2)the count is 6. Run: Threemer.count()</p>\n",
    "<p>3)run Threemer.find3mer()</p>\n",
    "<p>4) have no idea what format this answer should be in, I used CSV and it failed every time\n",
    "both by computer progran and manually. </p>\n",
    "\n",
    "\n",
    "<img src=\"courseraweek1a.png\">"
   ]
  },
  {
   "cell_type": "markdown",
   "metadata": {
    "collapsed": true,
    "deletable": true,
    "editable": true
   },
   "source": [
    "<h6>Lecture 2</h6>\n",
    "<p>The double strand DNA molecule is bound via AT double H bonds and by CG triple H bonds. These H bonds are not covalent and\n",
    "can be broken easily. Longer chains are more stable. </p>\n",
    "<p>DNA double strand separation called melting, into 2 single strands can occur at high temperatures, \n",
    "low salt and high pH. Higner melting temps for more stable dsDNA molecules. \n",
    "</p>\n",
    "<p>Finding the origin and terminus of the dna. Assuming a circular chain. When the DNA is heated the DNA strands separate. \n",
    "There is a natural fork in the DNA which opens and closes. This fork opening and separating the 2 strandsm, when wide enough, \n",
    "allows the 4 DNA polymerases to enter and start the process of replication. \n",
    "An initiator \n",
    "protein starts the unwinding then the protein helicase breaks the H bonds between DNA strands. As the DNA fork expands to approximately\n",
    "2000 nucleotides,\n",
    "the enzyme primase (TBD fill in)... In the figure below the 4 strands start separating and the 4 DNA polymerases start adding nucleotides\n",
    "to the 4 replicated strands. 1) clockwise strand ori->ter, 2) clockwise strand ter->ori, 3) counterclockwise strand ori->ter\n",
    "4) counterclockwise strand ter->ori. The red markers on the replicated strands are primers. \n",
    "</p>\n",
    "<img src=\"ori1.png\">\n",
    "<p>Image credit: stepnik lesson week2 coursera class:</p>\n",
    "<p>DNA can only copy continuously in the 3'->5' direction. When copying the opposite reverse strand in the 3-5 direction\n",
    "it copies in Okazi fragments then enzyme DNA ligase joins the fragments together. </p>\n",
    "<img src=\"ori2.png\">\n",
    "<img src=\"ori3.png\">\n",
    "<img src=\"ori4.png\">\n",
    "<img src=\"ori5.png\">\n",
    "<img src=\"ori6.png\">\n",
    "<img src=\"ori7.png\">\n",
    "<h6>Deanimation is the cause of the difference bew</h6>\n",
    "<img src=\"ori8pre.png\">\n",
    "<img src=\"ori8.png\">\n",
    "<p>There are approx 1M base pairs. There is a skew caused by deanimation of C->T. Converting C->T causes the CG \n",
    "imbalance because deanimation occurs 100x more frequently on the Ozaki single strand replication. \n",
    "\n",
    "</p>"
   ]
  },
  {
   "cell_type": "code",
   "execution_count": 16,
   "metadata": {
    "collapsed": false,
    "deletable": true,
    "editable": true
   },
   "outputs": [
    {
     "name": "stdout",
     "output_type": "stream",
     "text": [
      "processsing: T\n",
      "processsing: A\n",
      "processsing: A\n",
      "processsing: A\n",
      "processsing: G\n",
      "incrementing\n",
      "processsing: A\n",
      "processsing: C\n",
      "decrementing\n",
      "processsing: T\n",
      "processsing: G\n",
      "incrementing\n",
      "processsing: C\n",
      "decrementing\n",
      "processsing: C\n",
      "decrementing\n",
      "processsing: G\n",
      "incrementing\n",
      "processsing: A\n",
      "processsing: G\n",
      "incrementing\n",
      "processsing: A\n",
      "processsing: G\n",
      "incrementing\n",
      "processsing: G\n",
      "incrementing\n",
      "processsing: C\n",
      "decrementing\n",
      "processsing: C\n",
      "decrementing\n",
      "processsing: A\n",
      "processsing: A\n",
      "processsing: C\n",
      "decrementing\n",
      "processsing: A\n",
      "processsing: C\n",
      "decrementing\n",
      "processsing: G\n",
      "incrementing\n",
      "processsing: A\n",
      "processsing: G\n",
      "incrementing\n",
      "processsing: T\n",
      "processsing: G\n",
      "incrementing\n",
      "processsing: C\n",
      "decrementing\n",
      "processsing: T\n",
      "processsing: A\n",
      "processsing: G\n",
      "incrementing\n",
      "processsing: A\n",
      "processsing: A\n",
      "processsing: C\n",
      "decrementing\n",
      "processsing: G\n",
      "incrementing\n",
      "processsing: A\n",
      "processsing: G\n",
      "incrementing\n",
      "processsing: G\n",
      "incrementing\n",
      "processsing: G\n",
      "incrementing\n",
      "processsing: G\n",
      "incrementing\n",
      "processsing: C\n",
      "decrementing\n",
      "processsing: G\n",
      "incrementing\n",
      "processsing: T\n",
      "processsing: A\n",
      "processsing: A\n",
      "processsing: A\n",
      "processsing: C\n",
      "decrementing\n",
      "processsing: G\n",
      "incrementing\n",
      "processsing: C\n",
      "decrementing\n",
      "processsing: G\n",
      "incrementing\n",
      "processsing: G\n",
      "incrementing\n",
      "processsing: G\n",
      "incrementing\n",
      "processsing: T\n",
      "processsing: C\n",
      "decrementing\n",
      "processsing: C\n",
      "decrementing\n",
      "processsing: G\n",
      "incrementing\n",
      "processsing: A\n",
      "processsing: T\n",
      "7 (-1, 23)\n",
      "[0, 0, 0, 0, 0, 0, 0, 0, 0, 1, 1, 1, 1, 0, 0, 0, 0, 1, 1, 0, 0, -1, -1, 0, 0, 0, 0, 1, 1, 1, 1, 2, 2, 3, 3, 2, 2, 1, 1, 1, 1, 1, 1, 0, 0, 0, 0, -1, -1, 0, 0, 0, 0, 1, 1, 1, 1, 2, 2, 1, 1, 1, 1, 1, 1, 2, 2, 2, 2, 2, 2, 1, 1, 2, 2, 2, 2, 3, 3, 4, 4, 5, 5, 6, 6, 5, 5, 6, 6, 6, 6, 6, 6, 6, 6, 6, 6, 5, 5, 6, 6, 5, 5, 6, 6, 7, 7, 8, 8, 8, 8, 7, 7, 6, 6, 7, 7, 7, 7, 7, 7]\n"
     ]
    },
    {
     "data": {
      "image/png": "[encoded data removed]",
      "text/plain": [
       "<matplotlib.figure.Figure at 0x1085390b8>"
      ]
     },
     "metadata": {},
     "output_type": "display_data"
    }
   ],
   "source": [
    "import matplotlib.pyplot as plt\n",
    "\n",
    "def min_skew():\n",
    "    \"\"\"\n",
    "    start at 0 +1 for G, -1 for C. Find minimum of skew. The\n",
    "    skew decreases where reverse half strand ends and forward half strand begins.\n",
    "    \"\"\"\n",
    "    s = \"TAAAGACTGCCGAGAGGCCAACACGAGTGCTAGAACGAGGGGCGTAAACGCGGGTCCGAT\"\n",
    "    list_skew=[]\n",
    "    list_skew.append(0)\n",
    "    current_skew = 0\n",
    "    min = 0,0\n",
    "    pos=0\n",
    "    for char in s:\n",
    "        print(\"processsing:\",char);\n",
    "        if(char==\"C\"):\n",
    "            print(\"decrementing\");\n",
    "            current_skew -= 1\n",
    "        elif(char==\"G\"):\n",
    "            print(\"incrementing\");\n",
    "            current_skew += 1\n",
    "        list_skew.append(current_skew)\n",
    "        if current_skew < 0:\n",
    "            min = current_skew,pos\n",
    "        pos += 1\n",
    "        list_skew.append(current_skew)\n",
    "    print(current_skew, min)\n",
    "    print(list_skew)\n",
    "    plt.plot(list_skew)\n",
    "    plt.ylabel('some numbers')\n",
    "    plt.show()\n",
    "min_skew()\n",
    "\n"
   ]
  },
  {
   "cell_type": "code",
   "execution_count": null,
   "metadata": {
    "collapsed": true,
    "deletable": true,
    "editable": true
   },
   "outputs": [],
   "source": [
    "<img src=\"skew1.png\">\n",
    "<img src=\"skew2.png\">\n"
   ]
  }
 ],
 "metadata": {
  "kernelspec": {
   "display_name": "Python 3",
   "language": "python",
   "name": "python3"
  },
  "language_info": {
   "codemirror_mode": {
    "name": "ipython",
    "version": 3
   },
   "file_extension": ".py",
   "mimetype": "text/x-python",
   "name": "python",
   "nbconvert_exporter": "python",
   "pygments_lexer": "ipython3",
   "version": "3.4.5"
  }
 },
 "nbformat": 4,
 "nbformat_minor": 2
}
